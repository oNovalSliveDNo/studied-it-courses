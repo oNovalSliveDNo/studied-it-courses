{
 "cells": [
  {
   "cell_type": "code",
   "execution_count": 1,
   "id": "a818259a-4ec2-41e8-aef0-1e3d758f4453",
   "metadata": {},
   "outputs": [],
   "source": [
    "import json"
   ]
  },
  {
   "cell_type": "markdown",
   "id": "9bbebfbc-86e3-42a9-a62b-0f9d27c2a3ff",
   "metadata": {},
   "source": [
    "# Простые классы"
   ]
  },
  {
   "cell_type": "code",
   "execution_count": 2,
   "id": "16bcd253-d806-407d-b872-9effe6b7bef6",
   "metadata": {},
   "outputs": [
    {
     "name": "stdout",
     "output_type": "stream",
     "text": [
      "Количество вершин треугольника: 3\n",
      "Первый треугольник - стороны: 3 4 5\n",
      "Второй треугольник - стороны: 5 12 13\n",
      "n_dots через tr_1: 3\n",
      "n_dots через tr_2: 3\n"
     ]
    }
   ],
   "source": [
    "class Triangle():\n",
    "    # Поле класса (общее для всех объектов)\n",
    "    n_dots = 3\n",
    "    \n",
    "    def __init__(self, a, b, c):\n",
    "        self.a = a  # сторона a\n",
    "        self.b = b  # сторона b  \n",
    "        self.c = c  # сторона c\n",
    "\n",
    "\n",
    "# Создаем первый объект треугольника со сторонами 3, 4, 5\n",
    "tr_1 = Triangle(3, 4, 5)\n",
    "\n",
    "# Создаем второй объект треугольника со сторонами 5, 12, 13\n",
    "tr_2 = Triangle(5, 12, 13)\n",
    "\n",
    "# Проверяем, что поле класса n_dots доступно без создания объекта\n",
    "print(\"Количество вершин треугольника:\", Triangle.n_dots)\n",
    "\n",
    "# Проверяем значения сторон первого треугольника\n",
    "print(\"Первый треугольник - стороны:\", tr_1.a, tr_1.b, tr_1.c)\n",
    "\n",
    "# Проверяем значения сторон второго треугольника\n",
    "print(\"Второй треугольник - стороны:\", tr_2.a, tr_2.b, tr_2.c)\n",
    "\n",
    "# Проверяем, что поле n_dots также доступно через объекты\n",
    "print(\"n_dots через tr_1:\", tr_1.n_dots)\n",
    "print(\"n_dots через tr_2:\", tr_2.n_dots)"
   ]
  },
  {
   "cell_type": "markdown",
   "id": "e14d6ba3-64ab-41e4-bcac-0e9918016fb1",
   "metadata": {},
   "source": [
    "# Усложняем треугольник"
   ]
  },
  {
   "cell_type": "code",
   "execution_count": 3,
   "id": "b943d8bc-a9d6-4921-8539-75254d6698e8",
   "metadata": {},
   "outputs": [
    {
     "name": "stdout",
     "output_type": "stream",
     "text": [
      "Треугольник 1: стороны 3, 4, 5\n",
      "Площадь треугольника 1: 6.00\n",
      "Треугольник 2: стороны 5, 5, 5\n",
      "Площадь треугольника 2: 10.83\n",
      "Количество вершин: 3\n",
      "Ожидаемая ошибка: triangle inequality does not hold\n"
     ]
    }
   ],
   "source": [
    "class Triangle:\n",
    "    n_dots = 3  # Общее свойство для всех треугольников\n",
    "    \n",
    "    def __init__(self, a, b, c):\n",
    "        # Проверяем выполнение неравенства треугольника:\n",
    "        # каждая сторона должна быть меньше суммы двух других\n",
    "        if a >= b + c or b >= a + c or c >= a + b:\n",
    "            raise ValueError(\"triangle inequality does not hold\")\n",
    "        \n",
    "        # Сохраняем длины сторон\n",
    "        self.a = a\n",
    "        self.b = b\n",
    "        self.c = c\n",
    "    \n",
    "    def area(self):\n",
    "        # Вычисляем полупериметр\n",
    "        p = (self.a + self.b + self.c) * 0.5\n",
    "        \n",
    "        # Вычисляем площадь по формуле Герона\n",
    "        return (p * (p - self.a) * (p - self.b) * (p - self.c)) ** 0.5\n",
    "\n",
    "\n",
    "# Создаем объекты класса Triangle с соблюдением неравенства треугольника\n",
    "try:\n",
    "    tr_1 = Triangle(3, 4, 5)  # Прямоугольный треугольник\n",
    "    tr_2 = Triangle(5, 5, 5)  # Равносторонний треугольник\n",
    "    \n",
    "    # Вычисляем площади треугольников\n",
    "    square_1 = tr_1.area()\n",
    "    square_2 = tr_2.area()\n",
    "    \n",
    "    # Проверяем результаты\n",
    "    print(f\"Треугольник 1: стороны {tr_1.a}, {tr_1.b}, {tr_1.c}\")\n",
    "    print(f\"Площадь треугольника 1: {square_1:.2f}\")\n",
    "    \n",
    "    print(f\"Треугольник 2: стороны {tr_2.a}, {tr_2.b}, {tr_2.c}\")\n",
    "    print(f\"Площадь треугольника 2: {square_2:.2f}\")\n",
    "    \n",
    "    # Проверяем доступ к полю класса\n",
    "    print(f\"Количество вершин: {Triangle.n_dots}\")\n",
    "    \n",
    "except ValueError as e:\n",
    "    print(f\"Ошибка создания треугольника: {e}\")\n",
    "\n",
    "# Проверяем обработку ошибки при нарушении неравенства треугольника\n",
    "try:\n",
    "    tr_invalid = Triangle(1, 2, 5)  # Нарушает неравенство треугольника\n",
    "except ValueError as e:\n",
    "    print(f\"Ожидаемая ошибка: {e}\")"
   ]
  },
  {
   "cell_type": "markdown",
   "id": "79f8f17c-d8b7-4110-abc1-cbb2bf85da53",
   "metadata": {},
   "source": [
    "# Простое наследование"
   ]
  },
  {
   "cell_type": "code",
   "execution_count": 4,
   "id": "3ee01398-e389-4da5-89e6-ae53e3e0e6bb",
   "metadata": {},
   "outputs": [
    {
     "name": "stdout",
     "output_type": "stream",
     "text": [
      "Прямоугольник: стороны 4, 4\n",
      "Площадь прямоугольника: 16\n",
      "Количество вершин прямоугольника: 4\n",
      "rec_1 является экземпляром Rectangle: True\n",
      "rec_1 является экземпляром Triangle: True\n"
     ]
    }
   ],
   "source": [
    "class Rectangle(Triangle):\n",
    "    n_dots = 4  # Переопределяем свойство класса\n",
    "    \n",
    "    def __init__(self, a, b):\n",
    "        # Сохраняем длины сторон\n",
    "        self.a = a\n",
    "        self.b = b\n",
    "    \n",
    "    def area(self):\n",
    "        return self.a * self.b\n",
    "\n",
    "\n",
    "# Создаем объект класса Rectangle\n",
    "rec_1 = Rectangle(4, 4)\n",
    "\n",
    "# Проверяем значения сторон прямоугольника\n",
    "print(f\"Прямоугольник: стороны {rec_1.a}, {rec_1.b}\")\n",
    "\n",
    "# Вычисляем площадь прямоугольника\n",
    "square_1 = rec_1.area()\n",
    "print(f\"Площадь прямоугольника: {square_1}\")\n",
    "\n",
    "# Проверяем доступ к полю класса (должно быть 4, а не 3)\n",
    "print(f\"Количество вершин прямоугольника: {Rectangle.n_dots}\")\n",
    "\n",
    "# Проверяем, что объект является экземпляром обоих классов\n",
    "print(f\"rec_1 является экземпляром Rectangle: {isinstance(rec_1, Rectangle)}\")\n",
    "print(f\"rec_1 является экземпляром Triangle: {isinstance(rec_1, Triangle)}\")"
   ]
  },
  {
   "cell_type": "markdown",
   "id": "aa024497-184b-48b0-b094-6b9584dbefc9",
   "metadata": {},
   "source": [
    "# Наследование: абстрактный класс (1/4)"
   ]
  },
  {
   "cell_type": "code",
   "execution_count": 5,
   "id": "640e81b6-d02e-4916-aaf1-3f332d25c8d9",
   "metadata": {},
   "outputs": [
    {
     "name": "stdout",
     "output_type": "stream",
     "text": [
      "Ожидаемая ошибка при создании BaseFigure: Метод validate() должен быть реализован в подклассе\n",
      "Ожидаемая ошибка при вызове area(): Метод validate() должен быть реализован в подклассе\n",
      "n_dots базовой фигуры: None\n"
     ]
    }
   ],
   "source": [
    "class BaseFigure:\n",
    "    n_dots = None  # Должно быть переопределено в подклассах\n",
    "\n",
    "    def __init__(self):\n",
    "        self.validate()  # Проверяем корректность фигуры при создании\n",
    "    \n",
    "    def area(self):\n",
    "        raise NotImplementedError(\"Метод area() должен быть реализован в подклассе\")\n",
    "    \n",
    "    def validate(self):\n",
    "        raise NotImplementedError(\"Метод validate() должен быть реализован в подклассе\")\n",
    "\n",
    "\n",
    "# Проверяем, что класс работает как абстрактный\n",
    "try:\n",
    "    # Попытка создать экземпляр абстрактного класса\n",
    "    figure = BaseFigure()\n",
    "except NotImplementedError as e:\n",
    "    print(f\"Ожидаемая ошибка при создании BaseFigure: {e}\")\n",
    "\n",
    "try:\n",
    "    # Попытка вызвать area() напрямую\n",
    "    BaseFigure().area()\n",
    "except NotImplementedError as e:\n",
    "    print(f\"Ожидаемая ошибка при вызове area(): {e}\")\n",
    "\n",
    "# Проверяем, что поле класса доступно\n",
    "print(f\"n_dots базовой фигуры: {BaseFigure.n_dots}\")"
   ]
  },
  {
   "cell_type": "markdown",
   "id": "9ba49a3a-fa06-4638-ab2a-786c62d86a7c",
   "metadata": {},
   "source": [
    "# Наследование: абстрактный класс (2/4)"
   ]
  },
  {
   "cell_type": "code",
   "execution_count": 6,
   "id": "df19c789-bc42-4f7b-b0c8-a57e21a49dfd",
   "metadata": {},
   "outputs": [
    {
     "name": "stdout",
     "output_type": "stream",
     "text": [
      "Triangle.n_dots = 3\n",
      "Rectangle.n_dots = 4\n",
      "Ошибка при создании Triangle: Метод validate() должен быть реализован в подклассе\n",
      "Ошибка при вызове area() у Triangle: Метод validate() должен быть реализован в подклассе\n",
      "Ошибка при создании Rectangle: Метод validate() должен быть реализован в подклассе\n",
      "Ошибка при вызове area() у Rectangle: Метод validate() должен быть реализован в подклассе\n"
     ]
    }
   ],
   "source": [
    "class Triangle(BaseFigure):\n",
    "    n_dots = 3  # Переопределяем количество вершин\n",
    "\n",
    "\n",
    "class Rectangle(BaseFigure):\n",
    "    n_dots = 4  # Переопределяем количество вершин\n",
    "\n",
    "\n",
    "# Проверяем, что классы Triangle и Rectangle наследуют n_dots от BaseFigure\n",
    "print(f\"Triangle.n_dots = {Triangle.n_dots}\")  # Должно быть 3\n",
    "print(f\"Rectangle.n_dots = {Rectangle.n_dots}\")  # Должно быть 4\n",
    "\n",
    "# Проверяем, что методы area() и validate() не реализованы в Triangle\n",
    "try:\n",
    "    triangle = Triangle()\n",
    "    print(\"Triangle создан успешно\")\n",
    "except NotImplementedError as e:\n",
    "    print(f\"Ошибка при создании Triangle: {e}\")\n",
    "\n",
    "try:\n",
    "    triangle = Rectangle()\n",
    "    triangle.area()\n",
    "except NotImplementedError as e:\n",
    "    print(f\"Ошибка при вызове area() у Triangle: {e}\")\n",
    "\n",
    "# Проверяем, что методы area() и validate() не реализованы в Rectangle\n",
    "try:\n",
    "    rectangle = Rectangle()\n",
    "    print(\"Rectangle создан успешно\")\n",
    "except NotImplementedError as e:\n",
    "    print(f\"Ошибка при создании Rectangle: {e}\")\n",
    "\n",
    "try:\n",
    "    rectangle = Rectangle()\n",
    "    rectangle.area()\n",
    "except NotImplementedError as e:\n",
    "    print(f\"Ошибка при вызове area() у Rectangle: {e}\")"
   ]
  },
  {
   "cell_type": "markdown",
   "id": "17b64e97-49ea-4ef2-989f-f07e94f5d145",
   "metadata": {},
   "source": [
    "# Наследование: абстрактный класс (3/4)"
   ]
  },
  {
   "cell_type": "code",
   "execution_count": 7,
   "id": "5f72654b-9322-4a4c-acaa-01dc49f895df",
   "metadata": {},
   "outputs": [],
   "source": [
    "class Triangle(BaseFigure):\n",
    "    \"\"\"Класс треугольника, наследуется от BaseFigure\"\"\"\n",
    "    \n",
    "    n_dots = 3  # Количество вершин треугольника\n",
    "    \n",
    "    def __init__(self, a, b, c):\n",
    "        # Сохраняем стороны треугольника в атрибутах объекта\n",
    "        self.a = a\n",
    "        self.b = b\n",
    "        self.c = c\n",
    "        # Вызываем конструктор родительского класса\n",
    "        super().__init__()\n",
    "\n",
    "    def area(self):\n",
    "        \"\"\"Переопределенный метод вычисления площади по формуле Герона\"\"\"\n",
    "        # Вычисляем полупериметр\n",
    "        p = (self.a + self.b + self.c) * 0.5\n",
    "        # Вычисляем площадь по формуле Герона\n",
    "        return (p * (p - self.a) * (p - self.b) * (p - self.c)) ** 0.5\n",
    "    \n",
    "    def validate(self):\n",
    "        \"\"\"Переопределенный метод валидации треугольника\"\"\"\n",
    "        # Проверяем неравенство треугольника для всех комбинаций сторон\n",
    "        if (self.a >= self.b + self.c) or (self.b >= self.a + self.c) or (self.c >= self.a + self.b):\n",
    "            # Если неравенство не выполняется, выбрасываем исключение\n",
    "            raise ValueError(\"triangle inequality does not hold\")\n",
    "        else:\n",
    "            # Возвращаем значения сторон при успешной валидации\n",
    "            return (self.a, self.b, self.c)\n",
    "\n",
    "\n",
    "class Rectangle(BaseFigure):\n",
    "    \"\"\"Класс прямоугольника, наследуется от BaseFigure\"\"\"\n",
    "    \n",
    "    n_dots = 4  # Количество вершин прямоугольника\n",
    "    \n",
    "    def __init__(self, a, b):\n",
    "        # Сохраняем стороны прямоугольника в атрибутах объекта\n",
    "        self.a = a\n",
    "        self.b = b\n",
    "        # Вызываем конструктор родительского класса\n",
    "        super().__init__()\n",
    "\n",
    "    def area(self):\n",
    "        \"\"\"Переопределенный метод вычисления площади прямоугольника\"\"\"\n",
    "        # Площадь прямоугольника = a * b\n",
    "        return self.a * self.b\n",
    "    \n",
    "    def validate(self):\n",
    "        \"\"\"Переопределенный метод валидации прямоугольника\"\"\"\n",
    "        # Просто возвращаем значения сторон\n",
    "        return (self.a, self.b)"
   ]
  },
  {
   "cell_type": "markdown",
   "id": "e82bd167-3e70-4ba3-8a3a-ddda321d0ac0",
   "metadata": {},
   "source": [
    "# Наследование: абстрактный класс (4/4)"
   ]
  },
  {
   "cell_type": "code",
   "execution_count": 8,
   "id": "abe2022a-d66b-437d-a9e1-66c28258a41a",
   "metadata": {},
   "outputs": [],
   "source": [
    "class Circle(BaseFigure):\n",
    "    \"\"\"Класс круга, наследуется от BaseFigure\"\"\"\n",
    "    \n",
    "    n_dots = float('inf')  # Количество точек на окружности (бесконечно много)\n",
    "    \n",
    "    def __init__(self, r):\n",
    "        # Сохраняем радиус круга в атрибуте объекта\n",
    "        self.r = r\n",
    "        # Вызываем конструктор родительского класса\n",
    "        super().__init__()\n",
    "\n",
    "    def area(self):\n",
    "        \"\"\"Переопределенный метод вычисления площади круга\"\"\"\n",
    "        # Площадь круга = π * r² (используем приближение π ≈ 3.14)\n",
    "        return 3.14 * self.r ** 2\n",
    "\n",
    "    def validate(self):\n",
    "        \"\"\"Переопределенный метод валидации круга\"\"\"\n",
    "        pass"
   ]
  },
  {
   "cell_type": "markdown",
   "id": "539ac315-d710-4761-bce9-e46d2f7901c7",
   "metadata": {},
   "source": [
    "# Магические методы: вектор (1/4)"
   ]
  },
  {
   "cell_type": "code",
   "execution_count": 9,
   "id": "94405768-7f18-4499-b5cf-44589c10b70d",
   "metadata": {},
   "outputs": [
    {
     "data": {
      "text/plain": [
       "[3, 5, 7]"
      ]
     },
     "execution_count": 9,
     "metadata": {},
     "output_type": "execute_result"
    }
   ],
   "source": [
    "class Vector():\n",
    "    def __init__(self, coords):\n",
    "        self.coords = coords\n",
    "\n",
    "    def __add__(self, vector):\n",
    "        if len(self.coords) == len(vector.coords):\n",
    "            temp = list()\n",
    "            for i in range(len(self.coords)):\n",
    "                temp.append(self.coords[i] + vector.coords[i])\n",
    "            return Vector(temp)\n",
    "        else:\n",
    "            raise ValueError(f'left and right lengths differ: {len(self.coords)} != {len(vector.coords)}')\n",
    "\n",
    "\n",
    "# Будет работать\n",
    "(Vector([1, 2, 3]) + Vector([2, 3, 4])).coords  # даст Vector([3, 5, 7])"
   ]
  },
  {
   "cell_type": "code",
   "execution_count": 10,
   "id": "c30c2536-7c06-4126-b8c0-12359f6126b6",
   "metadata": {},
   "outputs": [
    {
     "name": "stdout",
     "output_type": "stream",
     "text": [
      "Ошибка при складывании векторов: left and right lengths differ: 2 != 3\n"
     ]
    }
   ],
   "source": [
    "try:\n",
    "    # НЕ будет работать\n",
    "    Vector([1, 2]) + Vector([1, 2, 3])  # нельзя складывать векторы разной длины\n",
    "    # Должно возвращать ошибку (сообщение тоже!)\n",
    "    # ValueError: left and right lengths differ: 2 != 3\n",
    "\n",
    "except ValueError as e:\n",
    "    print(f\"Ошибка при складывании векторов: {e}\")"
   ]
  },
  {
   "cell_type": "markdown",
   "id": "cecc65f4-7533-4247-a6d0-e692fccbd676",
   "metadata": {},
   "source": [
    "# Магические методы: вектор (2/4)"
   ]
  },
  {
   "cell_type": "code",
   "execution_count": 11,
   "id": "f79061a4-56d6-47aa-ba54-23424da6df5f",
   "metadata": {},
   "outputs": [
    {
     "name": "stdout",
     "output_type": "stream",
     "text": [
      "[1, 2, 3]\n",
      "[1]\n"
     ]
    }
   ],
   "source": [
    "class Vector():\n",
    "    def __init__(self, coords):\n",
    "        self.coords = coords\n",
    "\n",
    "    def __add__(self, vector):\n",
    "        if len(self.coords) == len(vector.coords):\n",
    "            temp = list()\n",
    "            for i in range(len(self.coords)):\n",
    "                temp.append(self.coords[i] + vector.coords[i])\n",
    "            return Vector(temp)\n",
    "        else:\n",
    "            raise ValueError(f'left and right lengths differ: {len(self.coords)} != {len(vector.coords)}')\n",
    "    \n",
    "    def __str__(self):\n",
    "        return f'{self.coords}'\n",
    "\n",
    "\n",
    "print(Vector([1, 2, 3]))\n",
    "# Напечатает: \"[1, 2, 3]\" без кавычек\n",
    "\n",
    "vec = Vector([1])\n",
    "print(vec)\n",
    "# Напечатает \"[1]\" без кавычек"
   ]
  },
  {
   "cell_type": "markdown",
   "id": "1964ee27-21d3-45f4-afdd-1bfd0ff805e3",
   "metadata": {},
   "source": [
    "# Магические методы: вектор (3/4)"
   ]
  },
  {
   "cell_type": "code",
   "execution_count": 12,
   "id": "fb089f22-4144-48b5-8164-d62c77ef0f8f",
   "metadata": {},
   "outputs": [
    {
     "data": {
      "text/plain": [
       "6"
      ]
     },
     "execution_count": 12,
     "metadata": {},
     "output_type": "execute_result"
    }
   ],
   "source": [
    "class Vector():\n",
    "    def __init__(self, coords):\n",
    "        self.coords = coords\n",
    "\n",
    "    def __add__(self, vector):\n",
    "        if len(self.coords) == len(vector.coords):\n",
    "            temp = list()\n",
    "            for i in range(len(self.coords)):\n",
    "                temp.append(self.coords[i] + vector.coords[i])\n",
    "            return Vector(temp)\n",
    "        else:\n",
    "            raise ValueError(f'left and right lengths differ: {len(self.coords)} != {len(vector.coords)}')\n",
    "    \n",
    "    def __str__(self):\n",
    "        return f'{self.coords}'\n",
    "\n",
    "    def __mul__(self, vector):\n",
    "        if isinstance(vector, (int, float)) == True:\n",
    "            temp = [a * vector for a in self.coords]\n",
    "            return Vector(temp)\n",
    "\n",
    "        elif isinstance(vector, Vector) == True:\n",
    "            if len(self.coords) != len(vector.coords):\n",
    "                raise ValueError(f'left and right lengths differ: {len(self.coords)} != {len(vector.coords)}')\n",
    "            temp = 0\n",
    "            for i in range(len(self.coords)):\n",
    "                temp += (self.coords[i] * vector.coords[i])\n",
    "            return temp\n",
    "\n",
    "\n",
    "Vector([1, 2, 3]) * Vector([2, 5, -2])  # даст 6\n",
    "# 1 * 2 + 2 * 5 + 3 * (-2) = 6"
   ]
  },
  {
   "cell_type": "code",
   "execution_count": 13,
   "id": "10abc5b4-1554-48e5-b813-24428603c727",
   "metadata": {},
   "outputs": [
    {
     "name": "stdout",
     "output_type": "stream",
     "text": [
      "Ошибка при умножении векторов: left and right lengths differ: 2 != 3\n"
     ]
    }
   ],
   "source": [
    "try:\n",
    "    print(Vector([1, 2]) * Vector([2, 3, 4]))\n",
    "    # ValueError: left and right lengths differ: 2 != 3\n",
    "\n",
    "except ValueError as e:\n",
    "    print(f\"Ошибка при умножении векторов: {e}\")"
   ]
  },
  {
   "cell_type": "code",
   "execution_count": 14,
   "id": "4dd176e5-1299-4984-b85b-9de713a26f7e",
   "metadata": {},
   "outputs": [
    {
     "name": "stdout",
     "output_type": "stream",
     "text": [
      "[10, 15, 25, 40]\n"
     ]
    }
   ],
   "source": [
    "print(Vector([2, 3, 5, 8]) * 5)  # даст Vector([10, 15, 25, 40])"
   ]
  },
  {
   "cell_type": "markdown",
   "id": "bd707ce3-0ef4-459e-acf4-f58a601fb230",
   "metadata": {},
   "source": [
    "# Магические методы: вектор (4/4)"
   ]
  },
  {
   "cell_type": "code",
   "execution_count": 15,
   "id": "83e39248-5679-4b86-a8b0-bfd8c2780c2a",
   "metadata": {},
   "outputs": [
    {
     "name": "stdout",
     "output_type": "stream",
     "text": [
      "13.0\n",
      "False\n",
      "False\n",
      "True\n"
     ]
    }
   ],
   "source": [
    "class Vector():\n",
    "    def __init__(self, coords):\n",
    "        self.coords = coords\n",
    "\n",
    "    def __add__(self, vector):\n",
    "        if len(self.coords) == len(vector.coords):\n",
    "            temp = list()\n",
    "            for i in range(len(self.coords)):\n",
    "                temp.append(self.coords[i] + vector.coords[i])\n",
    "            return Vector(temp)\n",
    "        else:\n",
    "            raise ValueError(f'left and right lengths differ: {len(self.coords)} != {len(vector.coords)}')\n",
    "    \n",
    "    def __str__(self):\n",
    "        return f'{self.coords}'\n",
    "\n",
    "    def __mul__(self, vector):\n",
    "        if isinstance(vector, (int, float)) == True:\n",
    "            temp = [a * vector for a in self.coords]\n",
    "            \n",
    "            return Vector(temp)\n",
    "\n",
    "        elif isinstance(vector, Vector) == True:\n",
    "            \n",
    "            if len(self.coords) != len(vector.coords):\n",
    "                raise ValueError(f'left and right lengths differ: {len(self.coords)} != {len(vector.coords)}')\n",
    "                \n",
    "            temp = 0\n",
    "            \n",
    "            for i in range(len(self.coords)):\n",
    "                temp += (self.coords[i] * vector.coords[i])\n",
    "                \n",
    "            return temp\n",
    "\n",
    "    def __eq__(self, vector):\n",
    "        return self.coords == vector.coords\n",
    "\n",
    "    def __abs__(self):\n",
    "        return (sum(a ** 2 for a in self.coords))**0.5\n",
    "\n",
    "\n",
    "print(abs(Vector([-12, 5])))  # Должно быть 13\n",
    "\n",
    "print(Vector([1, 3, 5]) == Vector([1]))  # False\n",
    "print(Vector([1, 3, 5]) == Vector([-1, 3, 5]))  # False\n",
    "print(Vector([1, 3, 5]) == Vector([1, 3, 5]))  # True"
   ]
  },
  {
   "cell_type": "markdown",
   "id": "1deb9243-c05e-459c-9c72-f1b42f84ea0a",
   "metadata": {},
   "source": [
    "# Множественное наследование (1/3)"
   ]
  },
  {
   "cell_type": "code",
   "execution_count": 16,
   "id": "e86e341b-60ad-4750-8a19-15755ea9708b",
   "metadata": {},
   "outputs": [
    {
     "name": "stdout",
     "output_type": "stream",
     "text": [
      "Cookies: {'auth_key': 'secret_token', 'session_id': '12345'}\n",
      "Is authed: True\n",
      "Body: a long time ago, in a Galaxy far, far away\n",
      "Headers: {'content-type': 'application/json', 'Accept': 'application/json'}\n",
      "Need JSON: True\n"
     ]
    }
   ],
   "source": [
    "class ParsesCookies:\n",
    "    def cookies(self):\n",
    "        \"\"\"Возвращает все по ключу 'cookies' из self.request.\"\"\"\n",
    "        return self.request.get('cookies', {})\n",
    "\n",
    "    def is_authed(self):\n",
    "        \"\"\"Проверяет, есть ли ключ 'auth_key' в cookies.\"\"\"\n",
    "        cookies = self.cookies()\n",
    "        return 'auth_key' in cookies\n",
    "\n",
    "\n",
    "class ParsesBody:\n",
    "    def body(self):\n",
    "        \"\"\"Возвращает текст по ключу 'body' из self.request.\"\"\"\n",
    "        return self.request.get('body', '')\n",
    "\n",
    "\n",
    "class ParsesHeaders:\n",
    "    def headers(self):\n",
    "        \"\"\"Возвращает все по ключу 'headers' из self.request.\"\"\"\n",
    "        return self.request.get('headers', {})\n",
    "\n",
    "    def need_json(self):\n",
    "        \"\"\"Возвращает True, если в headers по ключу 'content-type' значение 'application/json', иначе False.\"\"\"\n",
    "        headers = self.headers()\n",
    "        return headers.get('content-type') == 'application/json'\n",
    "\n",
    "\n",
    "class Handler(ParsesCookies, ParsesBody, ParsesHeaders):\n",
    "    def __init__(self, request):\n",
    "        self.request = request\n",
    "\n",
    "\n",
    "# будет приходить запрос в виде словаря\n",
    "request = {\n",
    "    \"cookies\": {\"auth_key\": \"secret_token\", \"session_id\": \"12345\"},\n",
    "    \"body\": \"a long time ago, in a Galaxy far, far away\",\n",
    "    \"headers\": {\"content-type\": \"application/json\", \"Accept\": \"application/json\"}\n",
    "}\n",
    "\n",
    "# и этот словарь будет передаваться в конструктор класса\n",
    "handler = Handler(request)\n",
    "\n",
    "print(\"Cookies:\", handler.cookies())\n",
    "print(\"Is authed:\", handler.is_authed())\n",
    "print(\"Body:\", handler.body())\n",
    "print(\"Headers:\", handler.headers())\n",
    "print(\"Need JSON:\", handler.need_json())"
   ]
  },
  {
   "cell_type": "markdown",
   "id": "7d409e4a-080a-4054-b898-de8397f8dd30",
   "metadata": {},
   "source": [
    "# Множественное наследование (2/3)"
   ]
  },
  {
   "cell_type": "code",
   "execution_count": 17,
   "id": "4ae8039e-7f02-4190-93f3-d0b0cca220e1",
   "metadata": {},
   "outputs": [
    {
     "name": "stdout",
     "output_type": "stream",
     "text": [
      "2\n"
     ]
    }
   ],
   "source": [
    "class JsonHandler(ParsesBody, ParsesHeaders):\n",
    "    def __init__(self, request):\n",
    "        self.request = request\n",
    "\n",
    "    def process(self):\n",
    "        # Проверяем, нужно ли обрабатывать JSON\n",
    "        if not self.need_json():\n",
    "            return None\n",
    "        \n",
    "        # Получаем тело запроса\n",
    "        body_content = self.body()\n",
    "        \n",
    "        try:\n",
    "            # Пытаемся загрузить тело как JSON\n",
    "            json_data = json.loads(body_content)\n",
    "            \n",
    "            # Возвращаем количество ключей в словаре\n",
    "            if isinstance(json_data, dict):\n",
    "                return len(json_data)\n",
    "            else:\n",
    "                return None\n",
    "                \n",
    "        except json.JSONDecodeError:\n",
    "            # Если произошла ошибка при загрузке JSON, возвращаем None\n",
    "            return None\n",
    "\n",
    "\n",
    "# Пример использования\n",
    "r = {'body': '{\"a\": 123, \"b\": 1234}',\n",
    "     'headers': {'content-type': 'application/json'}\n",
    "    }\n",
    "print(JsonHandler(r).process())"
   ]
  },
  {
   "cell_type": "markdown",
   "id": "0594404a-1f6e-4327-9dfc-41f2361f8bf1",
   "metadata": {},
   "source": [
    "# Множественное наследование (3/3)"
   ]
  },
  {
   "cell_type": "code",
   "execution_count": 18,
   "id": "4ecca02c-d283-445a-8add-a8d193752def",
   "metadata": {},
   "outputs": [
    {
     "name": "stdout",
     "output_type": "stream",
     "text": [
      "5\n",
      "None\n"
     ]
    }
   ],
   "source": [
    "class SecureTextHandler(ParsesBody, ParsesCookies):\n",
    "    def __init__(self, request):\n",
    "        self.request = request\n",
    "\n",
    "    def process(self):\n",
    "        # Проверяем, авторизован ли пользователь\n",
    "        if not self.is_authed():\n",
    "            return None\n",
    "        \n",
    "        # Получаем тело запроса и возвращаем его длину\n",
    "        body_content = self.body()\n",
    "        return len(body_content)\n",
    "\n",
    "\n",
    "# Примеры\n",
    "r = {'cookies': {'auth_key': '123'},\n",
    "     'body': 'hello'\n",
    "    }\n",
    "\n",
    "print(SecureTextHandler(r).process())\n",
    "# 5\n",
    "\n",
    "r = {'cookies': {},\n",
    "     'body': 'hello'\n",
    "    }\n",
    "\n",
    "print(SecureTextHandler(r).process())\n",
    "# None"
   ]
  },
  {
   "cell_type": "code",
   "execution_count": null,
   "id": "aeb91b02-0246-4c42-907b-024e8047e801",
   "metadata": {},
   "outputs": [],
   "source": []
  }
 ],
 "metadata": {
  "kernelspec": {
   "display_name": "Python 3 (ipykernel)",
   "language": "python",
   "name": "python3"
  },
  "language_info": {
   "codemirror_mode": {
    "name": "ipython",
    "version": 3
   },
   "file_extension": ".py",
   "mimetype": "text/x-python",
   "name": "python",
   "nbconvert_exporter": "python",
   "pygments_lexer": "ipython3",
   "version": "3.13.5"
  }
 },
 "nbformat": 4,
 "nbformat_minor": 5
}
