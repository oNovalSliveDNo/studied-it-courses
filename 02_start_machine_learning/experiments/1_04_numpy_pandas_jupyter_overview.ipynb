{
 "cells": [
  {
   "cell_type": "markdown",
   "id": "31a832bb-f97e-47fe-88be-e9e1e283b8b8",
   "metadata": {},
   "source": [
    "# Создаем ноутбук в jupyter и учимся работать с Markdown"
   ]
  },
  {
   "cell_type": "markdown",
   "id": "79086bd5-0ecd-48cb-ac36-3b144cde0919",
   "metadata": {},
   "source": [
    "**Полужирный текст**\n",
    "\n",
    "_Курсивный текст_\n",
    "\n",
    "`function(12);`"
   ]
  },
  {
   "cell_type": "code",
   "execution_count": 1,
   "id": "73dc499f-e0d8-40af-b429-ed2dba6df9e0",
   "metadata": {},
   "outputs": [
    {
     "name": "stdout",
     "output_type": "stream",
     "text": [
      "0\n",
      "1\n",
      "2\n",
      "3\n",
      "4\n",
      "5\n",
      "6\n",
      "7\n",
      "8\n",
      "9\n",
      "10\n",
      "11\n"
     ]
    }
   ],
   "source": [
    "for i in range(12):\n",
    "    print(i)"
   ]
  },
  {
   "cell_type": "markdown",
   "id": "0a462c81-8b90-49c5-82e3-b40436b9f0ba",
   "metadata": {},
   "source": [
    "# Применяем магические команды jupyter"
   ]
  },
  {
   "cell_type": "code",
   "execution_count": 2,
   "id": "2b7a1ce1-ef4f-48eb-a7bc-50e9778ac030",
   "metadata": {},
   "outputs": [],
   "source": [
    "# Функция для скалярного произведения\n",
    "def dot_product(v1, v2):\n",
    "    result = 0\n",
    "    for i in range(len(v1)):\n",
    "        result += v1[i] * v2[i]\n",
    "    return result\n",
    "\n",
    "\n",
    "# Создаем векторы (это не входит во время выполнения)\n",
    "vec1 = list(range(int(1e5)))\n",
    "vec2 = list(range(int(1e5)))"
   ]
  },
  {
   "cell_type": "code",
   "execution_count": 3,
   "id": "0eea7bb7-1fac-499f-b660-c496e218b95d",
   "metadata": {},
   "outputs": [
    {
     "name": "stdout",
     "output_type": "stream",
     "text": [
      "3.82 ms ± 16.9 μs per loop (mean ± std. dev. of 7 runs, 100 loops each)\n"
     ]
    }
   ],
   "source": [
    "%%timeit\n",
    "\n",
    "# Замеряем время выполнения только скалярного произведения\n",
    "dot_product(vec1, vec2)"
   ]
  },
  {
   "cell_type": "markdown",
   "id": "27fd86a1-398d-40fe-9d9e-c93c368c088c",
   "metadata": {},
   "source": [
    "# Результат \"магического\" умножения"
   ]
  },
  {
   "cell_type": "code",
   "execution_count": 4,
   "id": "cc098161-ba29-4c8a-a7b3-e9570c931eb1",
   "metadata": {},
   "outputs": [
    {
     "name": "stdout",
     "output_type": "stream",
     "text": [
      "3.333283e+14\n"
     ]
    }
   ],
   "source": [
    "print(f'{dot_product(vec1, vec2):2e}')"
   ]
  },
  {
   "cell_type": "markdown",
   "id": "ab5e8534-e0fd-4504-a3de-82ae0efe404a",
   "metadata": {},
   "source": [
    "# Замеряем время работы функций в Numpy"
   ]
  },
  {
   "cell_type": "code",
   "execution_count": 5,
   "id": "73d38778-edf0-4316-980e-844a1efc499a",
   "metadata": {},
   "outputs": [],
   "source": [
    "import numpy as np\n",
    "\n",
    "\n",
    "# Создаем векторы как numpy arrays\n",
    "vec1_np = np.array(vec1)\n",
    "vec2_np = np.array(vec2)"
   ]
  },
  {
   "cell_type": "code",
   "execution_count": 6,
   "id": "a26e131a-20d9-46ef-9b87-a636a7d84130",
   "metadata": {},
   "outputs": [
    {
     "name": "stdout",
     "output_type": "stream",
     "text": [
      "35.9 μs ± 811 ns per loop (mean ± std. dev. of 7 runs, 10,000 loops each)\n"
     ]
    }
   ],
   "source": [
    "%%timeit\n",
    "\n",
    "# Замеряем время выполнения только скалярного произведения в numpy\n",
    "np.dot(vec1_np, vec2_np)"
   ]
  },
  {
   "cell_type": "markdown",
   "id": "499815f1-eb03-4d98-a626-b58461ddac95",
   "metadata": {},
   "source": [
    "# Фиксим баги в коде коллеги [2]"
   ]
  },
  {
   "cell_type": "code",
   "execution_count": 7,
   "id": "ec61f1cf-1dc0-4ce1-b3ad-2fbf72a834d0",
   "metadata": {},
   "outputs": [
    {
     "name": "stdout",
     "output_type": "stream",
     "text": [
      "11\n"
     ]
    }
   ],
   "source": [
    "def gcd(a, b):\n",
    "    \"\"\" Эффективный метод нахождения наибольшего общего делителя (НОД) двух целых чисел. \"\"\"\n",
    "    if a < b:\n",
    "        b, a = a, b\n",
    "    \n",
    "    while b != 0:\n",
    "        # a, b = a % b, b  # ← ОШИБКА здесь!\n",
    "        a, b = b, a % b  # ← Правильный порядок!\n",
    "    \n",
    "    print(a)\n",
    "\n",
    "\n",
    "gcd(11, 121)"
   ]
  },
  {
   "cell_type": "code",
   "execution_count": null,
   "id": "155bda82-2a16-4fd9-8d24-5ba539f1d50f",
   "metadata": {},
   "outputs": [],
   "source": []
  }
 ],
 "metadata": {
  "kernelspec": {
   "display_name": "Python 3 (ipykernel)",
   "language": "python",
   "name": "python3"
  },
  "language_info": {
   "codemirror_mode": {
    "name": "ipython",
    "version": 3
   },
   "file_extension": ".py",
   "mimetype": "text/x-python",
   "name": "python",
   "nbconvert_exporter": "python",
   "pygments_lexer": "ipython3",
   "version": "3.13.5"
  }
 },
 "nbformat": 4,
 "nbformat_minor": 5
}
