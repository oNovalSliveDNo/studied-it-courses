{
 "cells": [
  {
   "cell_type": "markdown",
   "id": "8ca4d0d4-5684-4531-8be1-b6fa5a42392f",
   "metadata": {},
   "source": [
    "# Базовый синтаксис"
   ]
  },
  {
   "cell_type": "code",
   "execution_count": 1,
   "id": "9f925d37-6ea7-4a97-9d44-bd2ad9f4b1b0",
   "metadata": {},
   "outputs": [],
   "source": [
    "i = 3"
   ]
  },
  {
   "cell_type": "code",
   "execution_count": 2,
   "id": "10b91c8c-d98a-4d53-8e01-591c1b11f5d7",
   "metadata": {},
   "outputs": [
    {
     "name": "stdout",
     "output_type": "stream",
     "text": [
      "Danielle\n",
      "22\n",
      "True\n"
     ]
    }
   ],
   "source": [
    "# 03.09.2025\n",
    "\n",
    "# Создаем переменные\n",
    "name = 'Danielle'\n",
    "age = 22\n",
    "is_student = True\n",
    "\n",
    "# Выводим переменные тремя вызовами print\n",
    "print(name)\n",
    "print(age)\n",
    "print(is_student)\n",
    "\n",
    "# Альтернативный вариант - один вызов print с тремя аргументами\n",
    "# print(name, age, is_student)"
   ]
  },
  {
   "cell_type": "markdown",
   "id": "369ecf3c-e572-4ce9-b9b5-7b254689d3ed",
   "metadata": {},
   "source": [
    "# Арифметика: поход в магазин"
   ]
  },
  {
   "cell_type": "code",
   "execution_count": 3,
   "id": "049d486a-af6c-4bff-aabb-33e2be4d1469",
   "metadata": {},
   "outputs": [
    {
     "name": "stdout",
     "output_type": "stream",
     "text": [
      "4\n"
     ]
    }
   ],
   "source": [
    "total_money = 100\n",
    "price = 23\n",
    "\n",
    "# Вычисляем количество банок, которые можно купить\n",
    "jar_count = total_money // price\n",
    "\n",
    "print(jar_count)"
   ]
  },
  {
   "cell_type": "markdown",
   "id": "32406b86-a8b1-42c6-9624-47c5c7a17667",
   "metadata": {},
   "source": [
    "# Арифметика: квадратные уравнения"
   ]
  },
  {
   "cell_type": "code",
   "execution_count": 4,
   "id": "8b22ed28-5cd4-4681-b26f-0287b2287393",
   "metadata": {},
   "outputs": [
    {
     "name": "stdout",
     "output_type": "stream",
     "text": [
      "5.0\n",
      "3.0\n"
     ]
    }
   ],
   "source": [
    "a, b, c = 1, -8, 15\n",
    "\n",
    "# Вычисляем дискриминант\n",
    "discriminant = (b**2 - 4 * a * c)**0.5\n",
    "\n",
    "# Вычисляем первый корень уравнения\n",
    "x_1 = (-b + discriminant) / (2 * a)\n",
    "\n",
    "# Вычисляем второй корень уравнения  \n",
    "x_2 = (-b - discriminant) / (2 * a)\n",
    "\n",
    "print(x_1)\n",
    "print(x_2)"
   ]
  },
  {
   "cell_type": "markdown",
   "id": "3a2574cd-6e3c-4726-8208-7fdfbc41f2ac",
   "metadata": {},
   "source": [
    "# Логические операторы: истина или ложь?"
   ]
  },
  {
   "cell_type": "code",
   "execution_count": 5,
   "id": "c85368ae-8294-4645-bfcb-9d37234de054",
   "metadata": {},
   "outputs": [
    {
     "name": "stdout",
     "output_type": "stream",
     "text": [
      "Выражение                 | Результат \n",
      "--------------------------|-----------\n",
      "True and False            | False     \n",
      "not True                  | False     \n",
      "False or True             | True      \n",
      "True or False             | True      \n",
      "False and True            | False     \n",
      "True and False or True    | True      \n"
     ]
    }
   ],
   "source": [
    "print(f\"{'Выражение':<25} | {'Результат':<10}\")\n",
    "print(f\"{'-'*25}-|-{'-'*10}\")\n",
    "print(f\"{'True and False':<25} | {True and False!s:<10}\")\n",
    "print(f\"{'not True':<25} | {not True!s:<10}\")\n",
    "print(f\"{'False or True':<25} | {False or True!s:<10}\")\n",
    "print(f\"{'True or False':<25} | {True or False!s:<10}\")\n",
    "print(f\"{'False and True':<25} | {False and True!s:<10}\")\n",
    "print(f\"{'True and False or True':<25} | {True and False or True!s:<10}\")"
   ]
  },
  {
   "cell_type": "markdown",
   "id": "54ca888a-9649-4cd3-9184-2301ee9c0362",
   "metadata": {},
   "source": [
    "# Коллекции"
   ]
  },
  {
   "cell_type": "code",
   "execution_count": 6,
   "id": "5f797648-9031-4bdd-a35d-f661cc659038",
   "metadata": {},
   "outputs": [
    {
     "name": "stdout",
     "output_type": "stream",
     "text": [
      "['Поесть', 'Поспать', 'Погулять', 'Почитать']\n"
     ]
    }
   ],
   "source": [
    "tasks_my = ['Поесть', 'Поспать']\n",
    "tasks_friend = ['Погулять', 'Почитать']\n",
    "\n",
    "# Объединяем два списка в один\n",
    "tasks_all = tasks_my + tasks_friend\n",
    "\n",
    "print(tasks_all)"
   ]
  },
  {
   "cell_type": "markdown",
   "id": "c22812dc-8c10-469c-9cd8-0352990eb785",
   "metadata": {},
   "source": [
    "# Коллекции: записная книжка"
   ]
  },
  {
   "cell_type": "code",
   "execution_count": 7,
   "id": "c48529fa-c769-4331-99f6-6ff04539816d",
   "metadata": {},
   "outputs": [
    {
     "name": "stdout",
     "output_type": "stream",
     "text": [
      "{1: ['Полить цветы', 'Забрать посылку'], 0: ['Покормить кота'], 2: ['Почитать книгу по программированию'], 3: ['Ответить на письмо двоюродной сестры']}\n"
     ]
    }
   ],
   "source": [
    "# Создаем словарь с задачами\n",
    "tasks = {\n",
    "    1: [\"Полить цветы\", \"Забрать посылку\"],\n",
    "    0: [\"Покормить кота\"],\n",
    "    2: [\"Почитать книгу по программированию\"],\n",
    "    3: [\"Ответить на письмо двоюродной сестры\"]\n",
    "}\n",
    "\n",
    "# Проверяем результат\n",
    "print(tasks)"
   ]
  },
  {
   "cell_type": "markdown",
   "id": "853fae38-1991-4ead-800d-df47a50ab2fa",
   "metadata": {},
   "source": [
    "# Условные переходы: основы"
   ]
  },
  {
   "cell_type": "code",
   "execution_count": 8,
   "id": "8a2197f0-8bb7-44bd-bcee-febcefe6e7b7",
   "metadata": {},
   "outputs": [
    {
     "name": "stdout",
     "output_type": "stream",
     "text": [
      "есть срочные дела\n"
     ]
    }
   ],
   "source": [
    "# Проверяем, есть ли задачи с приоритетом 0\n",
    "if 0 in tasks:\n",
    "    print(\"есть срочные дела\")\n",
    "else:\n",
    "    print(\"можно отдохнуть\")"
   ]
  },
  {
   "cell_type": "markdown",
   "id": "95dc413d-f6c6-4e5c-a0b7-a18045b40b5e",
   "metadata": {},
   "source": [
    "# Циклы: основы"
   ]
  },
  {
   "cell_type": "code",
   "execution_count": 9,
   "id": "775348ad-40f2-4094-895f-eb08f369d8e2",
   "metadata": {},
   "outputs": [
    {
     "name": "stdout",
     "output_type": "stream",
     "text": [
      "[['Полить цветы', 'Забрать посылку'], ['Покормить кота'], ['Почитать книгу по программированию'], ['Ответить на письмо двоюродной сестры']]\n"
     ]
    }
   ],
   "source": [
    "# Создаем пустой список\n",
    "values = []\n",
    "\n",
    "# Проходим по всем ключам словаря tasks\n",
    "for key in tasks:\n",
    "    \n",
    "    # Добавляем значение (список задач) для каждого ключа\n",
    "    values.append(tasks[key])\n",
    "\n",
    "# Проверяем результат\n",
    "print(values)"
   ]
  },
  {
   "cell_type": "code",
   "execution_count": 10,
   "id": "680dd83a-8fb9-4e66-9daa-450db6b5f5e1",
   "metadata": {},
   "outputs": [
    {
     "name": "stdout",
     "output_type": "stream",
     "text": [
      "['Полить цветы', 'Забрать посылку', 'Покормить кота', 'Почитать книгу по программированию', 'Ответить на письмо двоюродной сестры']\n"
     ]
    }
   ],
   "source": [
    "# Создаем пустой список для всех задач\n",
    "doings = []\n",
    "\n",
    "# Проходим по всем ключам словаря tasks\n",
    "for priority in tasks:\n",
    "    \n",
    "    # Для каждого ключа проходим по всем задачам в списке\n",
    "    for task in tasks[priority]:\n",
    "        \n",
    "        # Добавляем каждую задачу в общий список\n",
    "        doings.append(task)\n",
    "\n",
    "# Проверяем результат\n",
    "print(doings)"
   ]
  },
  {
   "cell_type": "markdown",
   "id": "680d30b1-d5f6-4cd3-a373-76894d356fd8",
   "metadata": {},
   "source": [
    "# Все вместе: ищем кота в своих делах"
   ]
  },
  {
   "cell_type": "code",
   "execution_count": 11,
   "id": "aa9bd816-8517-445e-bf61-da3c514cb221",
   "metadata": {},
   "outputs": [
    {
     "name": "stdout",
     "output_type": "stream",
     "text": [
      "['Покормить кота']\n"
     ]
    }
   ],
   "source": [
    "# Создаем пустой список для задач с котом\n",
    "answer = []\n",
    "\n",
    "# Проходим по всем ключам словаря tasks\n",
    "for priority in tasks:\n",
    "    \n",
    "    # Для каждого ключа проходим по всем задачам в списке\n",
    "    for task in tasks[priority]:\n",
    "        \n",
    "        # Проверяем, есть ли в задаче слово \"кот\"\n",
    "        if \"кот\" in task:\n",
    "            \n",
    "            # Если есть - добавляем задачу в список\n",
    "            answer.append(task)\n",
    "\n",
    "# Проверяем результат\n",
    "print(answer)"
   ]
  },
  {
   "cell_type": "markdown",
   "id": "3434a0c3-b19e-47e6-b073-4f06b4fc12c4",
   "metadata": {},
   "source": [
    "# Continue и break: спасаемся от работы"
   ]
  },
  {
   "cell_type": "code",
   "execution_count": 12,
   "id": "f3704416-1b35-486e-948f-679bf38a4c7d",
   "metadata": {},
   "outputs": [
    {
     "name": "stdout",
     "output_type": "stream",
     "text": [
      "['Покормить кота']\n"
     ]
    }
   ],
   "source": [
    "# Создаем пустой список для хранения найденных задач с \"котом\"\n",
    "answer = list()\n",
    "\n",
    "# Итерируемся по ключам словаря tasks (приоритетам задач)\n",
    "for i in tasks.keys():\n",
    "    \n",
    "    # Если приоритет >= 2 (не срочные задачи) ИЛИ уже набрали 2 задачи - прерываем цикл\n",
    "    if i >= 2 or len(answer) >= 2:\n",
    "        break\n",
    "    \n",
    "    # Итерируемся по всем задачам текущего приоритета\n",
    "    for str_tsk in tasks[i]:\n",
    "        \n",
    "        # Проверяем, содержит ли задача подстроку \"кот\"\n",
    "        if \"кот\" in str_tsk:\n",
    "            \n",
    "            # Если содержит, добавляем задачу в результирующий список\n",
    "            answer.append(str_tsk)\n",
    "\n",
    "# Проверяем результат\n",
    "print(answer)"
   ]
  },
  {
   "cell_type": "markdown",
   "id": "980187e3-e7e6-4e51-8832-66b95730a35c",
   "metadata": {},
   "source": [
    "# Множества: дубли в задачах"
   ]
  },
  {
   "cell_type": "code",
   "execution_count": 13,
   "id": "4513a519-1c42-47c9-b98f-ba1d7196361a",
   "metadata": {},
   "outputs": [
    {
     "name": "stdout",
     "output_type": "stream",
     "text": [
      "{0: ['Покормить кота'], 1: ['Покормить кота', 'Забрать посылку']}\n"
     ]
    }
   ],
   "source": [
    "tasks = { \n",
    "    0: [\"Покормить кота\",\"Покормить кота\"],\n",
    "    1: [\"Покормить кота\", \"Забрать посылку\"]\n",
    "}\n",
    "\n",
    "# Создаем новый словарь для хранения задач без дубликатов\n",
    "new_tasks = {}\n",
    "\n",
    "# Проходим по всем ключам исходного словаря\n",
    "for priority in tasks:\n",
    "    \n",
    "    # Для каждого ключа создаем список уникальных задач\n",
    "    # set(tasks[priority]) - получаем уникальные задачи\n",
    "    # list(...) - преобразуем обратно в список\n",
    "    new_tasks[priority] = list(set(tasks[priority]))\n",
    "\n",
    "# Теперь new_tasks содержит те же ключи, но без дубликатов задач\n",
    "print(new_tasks)"
   ]
  },
  {
   "cell_type": "code",
   "execution_count": null,
   "id": "6692fea7-c7c4-4d38-97d3-fd50658fcd31",
   "metadata": {},
   "outputs": [],
   "source": []
  }
 ],
 "metadata": {
  "kernelspec": {
   "display_name": "Python 3 (ipykernel)",
   "language": "python",
   "name": "python3"
  },
  "language_info": {
   "codemirror_mode": {
    "name": "ipython",
    "version": 3
   },
   "file_extension": ".py",
   "mimetype": "text/x-python",
   "name": "python",
   "nbconvert_exporter": "python",
   "pygments_lexer": "ipython3",
   "version": "3.13.5"
  }
 },
 "nbformat": 4,
 "nbformat_minor": 5
}
