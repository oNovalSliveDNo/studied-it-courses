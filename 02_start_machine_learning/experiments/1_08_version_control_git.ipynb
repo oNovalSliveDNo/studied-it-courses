{
 "cells": [
  {
   "cell_type": "markdown",
   "id": "88e4529f-c5c5-429e-8e5f-7332c955943d",
   "metadata": {},
   "source": [
    "# Версионирование кода и Git\n",
    "\n",
    "## Настройка Git, создание форка и клонирование\n",
    "\n",
    "**Цель:** Настроить глобальные параметры пользователя Git, создать форк учебного репозитория и клонировать его на локальную машину.\n",
    "\n",
    "**Выполненные действия:**\n",
    "\n",
    "1.  Настроил глобальные имя и email для Git:\n",
    "    ```bash\n",
    "    git config --global user.name \"Danielle Nova\"\n",
    "    git config --global user.email \"novosel.dan@gmail.com\"\n",
    "    ```\n",
    "\n",
    "2.  В GitLab сделал форк репозитория `task_1` в свой приватный namespace:\n",
    "    - Ссылка на мой форк: https://git.lab.karpov.courses/danil-novoselov-xxa6454/task_1\n",
    "\n",
    "3.  Склонировал форк в папку с уроками:\n",
    "    ```bash\n",
    "    git clone https://git.lab.karpov.courses/danil-novoselov-xxa6454/task_1.git\n",
    "    ```\n",
    "\n",
    "4.  Перешел в папку склонированного проекта и проверил привязку к удаленному репозиторию:\n",
    "    ```bash\n",
    "    cd task_1\n",
    "    git remote -v\n",
    "    ```"
   ]
  },
  {
   "cell_type": "code",
   "execution_count": 1,
   "id": "88b1cea4-5863-464e-a887-9087dd87fc7e",
   "metadata": {},
   "outputs": [
    {
     "name": "stdout",
     "output_type": "stream",
     "text": [
      "$ git remote -v\n",
      "origin  https://git.lab.karpov.courses/danil-novoselov-xxa6454/task_1.git (fetch)\n",
      "origin  https://git.lab.karpov.courses/danil-novoselov-xxa6454/task_1.git (push)\n"
     ]
    }
   ],
   "source": [
    "# Вывод команды git remote -v внутри папки task_1\n",
    "print(\"$ git remote -v\")\n",
    "print(\"origin  https://git.lab.karpov.courses/danil-novoselov-xxa6454/task_1.git (fetch)\")\n",
    "print(\"origin  https://git.lab.karpov.courses/danil-novoselov-xxa6454/task_1.git (push)\")"
   ]
  },
  {
   "cell_type": "markdown",
   "id": "a80d20cf-a61d-4aff-b364-556e50010f97",
   "metadata": {},
   "source": [
    "**Вывод:** Успешно создал свою копию удаленного репозитория (форк) и связал локальную папку с ней через `origin`. Команда `git remote -v` показывает, что мой локальный репозиторий привязан к моему форку на GitLab.\n",
    "\n",
    "**Для сдачи задания в LMS** необходимо предоставить вывод команды `git remote -v`."
   ]
  },
  {
   "cell_type": "code",
   "execution_count": null,
   "id": "6e3897bf-b136-486d-b381-f41ee7a1d925",
   "metadata": {},
   "outputs": [],
   "source": []
  },
  {
   "cell_type": "code",
   "execution_count": null,
   "id": "dcba2db9-20c4-48fc-b7fa-897e67fd20ab",
   "metadata": {},
   "outputs": [],
   "source": []
  },
  {
   "cell_type": "code",
   "execution_count": null,
   "id": "4aba7aa2-0eb8-4a23-a9d0-214a57e6d0c7",
   "metadata": {},
   "outputs": [],
   "source": []
  },
  {
   "cell_type": "code",
   "execution_count": null,
   "id": "e088e812-d6a4-4666-b3b1-1208bbbd5c79",
   "metadata": {},
   "outputs": [],
   "source": []
  },
  {
   "cell_type": "code",
   "execution_count": null,
   "id": "005377a4-7cda-4ed4-a20b-80198e328e6b",
   "metadata": {},
   "outputs": [],
   "source": []
  },
  {
   "cell_type": "code",
   "execution_count": null,
   "id": "a9c3e437-fbd0-4f8e-85ce-d09ab5ff763c",
   "metadata": {},
   "outputs": [],
   "source": []
  },
  {
   "cell_type": "code",
   "execution_count": null,
   "id": "fee7be86-6a66-4bd4-8b0c-da9d0257d7e3",
   "metadata": {},
   "outputs": [],
   "source": []
  }
 ],
 "metadata": {
  "kernelspec": {
   "display_name": "Python 3 (ipykernel)",
   "language": "python",
   "name": "python3"
  },
  "language_info": {
   "codemirror_mode": {
    "name": "ipython",
    "version": 3
   },
   "file_extension": ".py",
   "mimetype": "text/x-python",
   "name": "python",
   "nbconvert_exporter": "python",
   "pygments_lexer": "ipython3",
   "version": "3.13.5"
  }
 },
 "nbformat": 4,
 "nbformat_minor": 5
}
