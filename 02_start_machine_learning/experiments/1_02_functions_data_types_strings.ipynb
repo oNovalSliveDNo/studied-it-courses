{
 "cells": [
  {
   "cell_type": "markdown",
   "id": "0be26d7b-c440-4d2b-b014-621c718d7838",
   "metadata": {},
   "source": [
    "# Функции"
   ]
  },
  {
   "cell_type": "code",
   "execution_count": 1,
   "id": "bf20fd87-6e1f-43fd-b9e8-2ec4f586f2d9",
   "metadata": {},
   "outputs": [
    {
     "name": "stdout",
     "output_type": "stream",
     "text": [
      "Площадь круга с радиусом 4: 50.24\n"
     ]
    }
   ],
   "source": [
    "def circle_square(radius):\n",
    "    return 3.14 * radius * radius\n",
    "\n",
    "\n",
    "radius = 4\n",
    "\n",
    "print(f'Площадь круга с радиусом {radius}: {circle_square(radius)}')"
   ]
  },
  {
   "cell_type": "code",
   "execution_count": 2,
   "id": "7ae55eb3-4db2-44d3-8535-a0e4db9ff676",
   "metadata": {},
   "outputs": [
    {
     "name": "stdout",
     "output_type": "stream",
     "text": [
      "[(1, 2), (5, 7), (3, 9)]\n"
     ]
    }
   ],
   "source": [
    "def zip_(list1, list2):\n",
    "    total_list = list()\n",
    "    \n",
    "    for i in range(min(len(list1), len(list2))):\n",
    "        t = (list1[i], list2[i])\n",
    "        total_list.append(t)\n",
    "    \n",
    "    return(total_list)\n",
    "\n",
    "\n",
    "list1 = [1, 5, 3, 8, 35]\n",
    "list2 = [2, 7, 9]\n",
    "\n",
    "print(zip_(list1, list2))"
   ]
  },
  {
   "cell_type": "markdown",
   "id": "7761fef9-036e-40af-af2a-b5c42615ccaa",
   "metadata": {},
   "source": [
    "# Уменьшаем дублирование кода"
   ]
  },
  {
   "cell_type": "code",
   "execution_count": 3,
   "id": "d48e0411-3c2e-4648-85f8-75fde1fe248d",
   "metadata": {},
   "outputs": [
    {
     "name": "stdout",
     "output_type": "stream",
     "text": [
      "###\n",
      "[1, 8, 27, 64]\n",
      "###\n",
      "###\n",
      "[1, 1, 6, 1]\n",
      "###\n",
      "###\n",
      "[2, 3, 9, 5]\n",
      "###\n"
     ]
    },
    {
     "data": {
      "text/plain": [
       "[2, 3, 9, 5]"
      ]
     },
     "execution_count": 3,
     "metadata": {},
     "output_type": "execute_result"
    }
   ],
   "source": [
    "def math_task(data):\n",
    "    answer = []\n",
    "    \n",
    "    # возводим в третью степень\n",
    "    for elem in data:\n",
    "        answer += [elem ** 3]\n",
    "    \n",
    "    print(\"###\")\n",
    "    print(answer)\n",
    "    print(\"###\")\n",
    "    \n",
    "    # берем остаток от деления на 7\n",
    "    for i in range(len(answer)):\n",
    "        answer[i] = answer[i] % 7\n",
    "    \n",
    "    print(\"###\")\n",
    "    print(answer)\n",
    "    print(\"###\")\n",
    "    \n",
    "    # прибавляем к остатку изначальный массив\n",
    "    for i in range(len(answer)):\n",
    "        answer[i] = answer[i] + data[i]\n",
    "    \n",
    "    print(\"###\")\n",
    "    print(answer)\n",
    "    print(\"###\")\n",
    "    \n",
    "    # возвращаем результат\n",
    "    return answer\n",
    "\n",
    "\n",
    "test_data = [1, 2, 3, 4]\n",
    "\n",
    "math_task(test_data)"
   ]
  },
  {
   "cell_type": "code",
   "execution_count": 4,
   "id": "54ead84a-d1ce-4ecb-a462-9fb86cebe5b1",
   "metadata": {},
   "outputs": [
    {
     "name": "stdout",
     "output_type": "stream",
     "text": [
      "###\n",
      "[1, 8, 27, 64]\n",
      "###\n",
      "###\n",
      "[1, 1, 6, 1]\n",
      "###\n",
      "###\n",
      "[2, 3, 9, 5]\n",
      "###\n"
     ]
    },
    {
     "data": {
      "text/plain": [
       "[2, 3, 9, 5]"
      ]
     },
     "execution_count": 4,
     "metadata": {},
     "output_type": "execute_result"
    }
   ],
   "source": [
    "def print_array(array):\n",
    "    print(\"###\")\n",
    "    print(array)\n",
    "    print(\"###\")\n",
    "\n",
    "\n",
    "def math_task(data):\n",
    "    answer = []\n",
    "    \n",
    "    # возводим в третью степень\n",
    "    for elem in data:\n",
    "        answer += [elem ** 3]\n",
    "        \n",
    "    print_array(answer)\n",
    "    \n",
    "    # берем остаток от деления на 7\n",
    "    for i in range(len(answer)):\n",
    "        answer[i] = answer[i] % 7\n",
    "        \n",
    "    print_array(answer)\n",
    "    \n",
    "    # прибавляем к остатку изначальный массив\n",
    "    for i in range(len(answer)):\n",
    "        answer[i] = answer[i] + data[i]\n",
    "        \n",
    "    print_array(answer)\n",
    "    \n",
    "    # возвращаем результат\n",
    "    return answer\n",
    "\n",
    "\n",
    "test_data = [1, 2, 3, 4]\n",
    "\n",
    "math_task(test_data)"
   ]
  },
  {
   "cell_type": "markdown",
   "id": "7a41c925-24b9-4425-bf18-19d881bf8c85",
   "metadata": {},
   "source": [
    "# Ошибки и их обработка"
   ]
  },
  {
   "cell_type": "code",
   "execution_count": 5,
   "id": "56718459-597c-4eaa-8b64-5f0b290104e3",
   "metadata": {},
   "outputs": [
    {
     "name": "stdout",
     "output_type": "stream",
     "text": [
      "58\n"
     ]
    }
   ],
   "source": [
    "def sum_as_ints(elements):\n",
    "    total = 0\n",
    "    for element in elements:\n",
    "        try:\n",
    "            total += int(element)\n",
    "        except:\n",
    "            continue\n",
    "    \n",
    "    return total\n",
    "\n",
    "\n",
    "elements = [\"hello\", \"3.14\", \"2,2\", 55, 2.7, 1.3]\n",
    "\n",
    "print(sum_as_ints(elements))"
   ]
  },
  {
   "cell_type": "markdown",
   "id": "6be4071a-eed2-4443-893c-29f0fde20f3d",
   "metadata": {},
   "source": [
    "# Ссылочная модель данных"
   ]
  },
  {
   "cell_type": "code",
   "execution_count": 6,
   "id": "13792d10-9508-4205-8d09-d388b94cca68",
   "metadata": {},
   "outputs": [
    {
     "name": "stdout",
     "output_type": "stream",
     "text": [
      "Все хорошо\n"
     ]
    },
    {
     "ename": "RuntimeError",
     "evalue": "Ошибка, после обращения дважды не получается исходный массив!",
     "output_type": "error",
     "traceback": [
      "\u001b[31m---------------------------------------------------------------------------\u001b[39m",
      "\u001b[31mRuntimeError\u001b[39m                              Traceback (most recent call last)",
      "\u001b[36mCell\u001b[39m\u001b[36m \u001b[39m\u001b[32mIn[6]\u001b[39m\u001b[32m, line 28\u001b[39m\n\u001b[32m     26\u001b[39m     \u001b[38;5;28mprint\u001b[39m(\u001b[33m\"\u001b[39m\u001b[33mВсе хорошо\u001b[39m\u001b[33m\"\u001b[39m)\n\u001b[32m     27\u001b[39m \u001b[38;5;28;01melse\u001b[39;00m:\n\u001b[32m---> \u001b[39m\u001b[32m28\u001b[39m     \u001b[38;5;28;01mraise\u001b[39;00m \u001b[38;5;167;01mRuntimeError\u001b[39;00m(\u001b[33m\"\u001b[39m\u001b[33mОшибка, после обращения дважды не получается исходный массив!\u001b[39m\u001b[33m\"\u001b[39m)\n",
      "\u001b[31mRuntimeError\u001b[39m: Ошибка, после обращения дважды не получается исходный массив!"
     ]
    }
   ],
   "source": [
    "def reversed_(array):\n",
    "    rv = []\n",
    "    \n",
    "    while array:\n",
    "        rv.append(array.pop())  # .pop() удаляет последнее значение из исходного списка\n",
    "        \n",
    "    # rv = array[::-1]  # этот вариант был бы лучше - он не изменяет исходный массив\n",
    "    return rv\n",
    "\n",
    "\n",
    "# Первый тест проходит, потому что создается новый список [1, 2, 3] для каждого вызова\n",
    "if reversed_(reversed_([1, 2, 3])) == [1, 2, 3]:\n",
    "    print(\"Все хорошо\")\n",
    "else:\n",
    "    raise RuntimeError(\"Ошибка, после обращения дважды не получается исходный массив!\")\n",
    "\n",
    "\n",
    "arr = [1, 2, 3]  # создаем исходный массив\n",
    "\n",
    "# Второй тест НЕ проходит, потому что:\n",
    "# 1. Первый вызов reversed_(arr) УДАЛЯЕТ все элементы из arr, возвращая [3, 2, 1]\n",
    "# 2. Второй вызов reversed_([3, 2, 1]) УДАЛЯЕТ все элементы из [3, 2, 1], возвращая [1, 2, 3]\n",
    "# 3. Но исходный массив arr теперь ПУСТОЙ []!\n",
    "# 4. Сравниваем [1, 2, 3] == [] - это False\n",
    "if reversed_(reversed_(arr)) == arr:\n",
    "    print(\"Все хорошо\")\n",
    "else:\n",
    "    raise RuntimeError(\"Ошибка, после обращения дважды не получается исходный массив!\")"
   ]
  },
  {
   "cell_type": "code",
   "execution_count": 7,
   "id": "3c8fefaa-8acd-4c65-a305-bc01a218b5ea",
   "metadata": {},
   "outputs": [
    {
     "name": "stdout",
     "output_type": "stream",
     "text": [
      "Все хорошо\n",
      "Все хорошо\n"
     ]
    }
   ],
   "source": [
    "def reversed_(array):\n",
    "    rv = array[::-1]  # создает перевернутую копию без изменения оригинала\n",
    "    return rv\n",
    "\n",
    "\n",
    "if reversed_(reversed_([1, 2, 3])) == [1, 2, 3]:\n",
    "    print(\"Все хорошо\")\n",
    "else:\n",
    "    raise RuntimeError(\"Ошибка, после обращения дважды не получается исходный массив!\")\n",
    "\n",
    "\n",
    "arr = [1, 2, 3]  # создаем исходный массив\n",
    "\n",
    "if reversed_(reversed_(arr)) == arr:\n",
    "    print(\"Все хорошо\")\n",
    "else:\n",
    "    raise RuntimeError(\"Ошибка, после обращения дважды не получается исходный массив!\")"
   ]
  },
  {
   "cell_type": "markdown",
   "id": "902b6737-106b-4374-a7d3-0a79df574abe",
   "metadata": {},
   "source": [
    "# Срезы"
   ]
  },
  {
   "cell_type": "code",
   "execution_count": 8,
   "id": "893f8cad-9ef1-401f-b837-3b7d4c6cc1c4",
   "metadata": {},
   "outputs": [
    {
     "name": "stdout",
     "output_type": "stream",
     "text": [
      "(6, 8)\n",
      "(0, 2)\n"
     ]
    }
   ],
   "source": [
    "def find_substr(what, where):\n",
    "    return (where.index(what), where.index(what)+len(what))\n",
    "\n",
    "\n",
    "print(find_substr(\"мы\", \"Летом мы хотим отдыхать на море\"))\n",
    "print(find_substr(\"ма\", \"маленькая машина\"))"
   ]
  },
  {
   "cell_type": "code",
   "execution_count": 9,
   "id": "2c083b60-237a-46fc-9276-ac94155dae25",
   "metadata": {},
   "outputs": [
    {
     "name": "stdout",
     "output_type": "stream",
     "text": [
      "['<', 'K', '/', 'C', '>']\n"
     ]
    }
   ],
   "source": [
    "def fifth_element(some_list: list) -> list:\n",
    "    return some_list[-5::-5]\n",
    "\n",
    "\n",
    "some_list = ['e',6,8,'A','>','^','S','$','R','C',6,'+','#',9,'/',1,'T','!','%','K',7,'-','O','*','<',2,'h',4,'g']\n",
    "\n",
    "print(fifth_element(some_list))"
   ]
  },
  {
   "cell_type": "markdown",
   "id": "f5f738c1-551d-4bf4-b480-5e6e859cecaf",
   "metadata": {},
   "source": [
    "# Строки"
   ]
  },
  {
   "cell_type": "code",
   "execution_count": 10,
   "id": "08e354a6-5b96-42cd-b490-4ffa07b28801",
   "metadata": {},
   "outputs": [
    {
     "name": "stdout",
     "output_type": "stream",
     "text": [
      "junior reads a lot of books\n"
     ]
    }
   ],
   "source": [
    "def process_string(string):\n",
    "    return string[1:].lower().replace(\"intern\", \"junior\")\n",
    "\n",
    "\n",
    "string = 'IIntern reads a lot of books'\n",
    "\n",
    "print(process_string(string))"
   ]
  },
  {
   "cell_type": "code",
   "execution_count": 11,
   "id": "93118b3b-1943-4005-bc08-85a7387f164a",
   "metadata": {},
   "outputs": [
    {
     "name": "stdout",
     "output_type": "stream",
     "text": [
      "True\n",
      "False\n",
      "False\n",
      "False\n"
     ]
    }
   ],
   "source": [
    "def check_string(string):\n",
    "    if (len(string) != len(string.strip())) or (string[-1] != \".\") or (string.strip().capitalize() != string):\n",
    "        return False\n",
    "    return True\n",
    "\n",
    "\n",
    "string = 'В этом году будет особенно теплое море.'\n",
    "print(check_string(string))\n",
    "\n",
    "string = 'В этом году будет особенно теплое Mоре.'\n",
    "print(check_string(string))\n",
    "\n",
    "string = 'В этом году будет особенно теплое море'\n",
    "print(check_string(string))\n",
    "\n",
    "string = ' В этом году будет особенно теплое море'\n",
    "print(check_string(string))"
   ]
  },
  {
   "cell_type": "code",
   "execution_count": null,
   "id": "7b1d9ca2-ef02-4bc3-9ae2-3f02da77e8f4",
   "metadata": {},
   "outputs": [],
   "source": []
  }
 ],
 "metadata": {
  "kernelspec": {
   "display_name": "Python 3 (ipykernel)",
   "language": "python",
   "name": "python3"
  },
  "language_info": {
   "codemirror_mode": {
    "name": "ipython",
    "version": 3
   },
   "file_extension": ".py",
   "mimetype": "text/x-python",
   "name": "python",
   "nbconvert_exporter": "python",
   "pygments_lexer": "ipython3",
   "version": "3.13.5"
  }
 },
 "nbformat": 4,
 "nbformat_minor": 5
}
