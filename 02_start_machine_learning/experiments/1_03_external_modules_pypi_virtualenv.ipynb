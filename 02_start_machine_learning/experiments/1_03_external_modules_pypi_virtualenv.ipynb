{
 "cells": [
  {
   "cell_type": "markdown",
   "id": "c777325a-0828-4806-b35b-aabef1d22b46",
   "metadata": {},
   "source": [
    "# Импорт встроенного: datetime"
   ]
  },
  {
   "cell_type": "code",
   "execution_count": 1,
   "id": "b060f161-8f19-4607-b32e-b41ebb1220d2",
   "metadata": {},
   "outputs": [
    {
     "name": "stdout",
     "output_type": "stream",
     "text": [
      "2022-02-10\n"
     ]
    }
   ],
   "source": [
    "import datetime\n",
    "\n",
    "launch_date = datetime.date(year=2022, month=2, day=10)\n",
    "print(launch_date)"
   ]
  },
  {
   "cell_type": "markdown",
   "id": "b08631dc-bbf9-475e-b93c-0aae21ea7ccc",
   "metadata": {},
   "source": [
    "# datetime: копаем дальше"
   ]
  },
  {
   "cell_type": "code",
   "execution_count": 2,
   "id": "21b9fb63-948f-46ad-88ff-eded0245f385",
   "metadata": {},
   "outputs": [
    {
     "name": "stdout",
     "output_type": "stream",
     "text": [
      "2022-03-24\n"
     ]
    }
   ],
   "source": [
    "import datetime\n",
    "\n",
    "some_future = launch_date + datetime.timedelta(days=42)\n",
    "print(some_future)"
   ]
  },
  {
   "cell_type": "markdown",
   "id": "71f3ac00-33ab-4a06-9c3c-bdbacbbcf61a",
   "metadata": {},
   "source": [
    "# Оптимизируем импорты"
   ]
  },
  {
   "cell_type": "code",
   "execution_count": 3,
   "id": "cc9e654e-a2c9-4420-bb0d-c53e19be5fa5",
   "metadata": {},
   "outputs": [
    {
     "name": "stdout",
     "output_type": "stream",
     "text": [
      "2022-03-11 05:06:00\n"
     ]
    }
   ],
   "source": [
    "from datetime import datetime, timedelta\n",
    "\n",
    "times = datetime(month=3, day=8, year=2022) + timedelta(days=3, hours=5, minutes=6)\n",
    "print(times)"
   ]
  },
  {
   "cell_type": "code",
   "execution_count": null,
   "id": "c6118cf5-cdc4-4b69-b44a-b816e2d5423c",
   "metadata": {},
   "outputs": [],
   "source": []
  }
 ],
 "metadata": {
  "kernelspec": {
   "display_name": "Python 3 (ipykernel)",
   "language": "python",
   "name": "python3"
  },
  "language_info": {
   "codemirror_mode": {
    "name": "ipython",
    "version": 3
   },
   "file_extension": ".py",
   "mimetype": "text/x-python",
   "name": "python",
   "nbconvert_exporter": "python",
   "pygments_lexer": "ipython3",
   "version": "3.13.5"
  }
 },
 "nbformat": 4,
 "nbformat_minor": 5
}
