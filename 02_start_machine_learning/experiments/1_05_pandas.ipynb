{
 "cells": [
  {
   "cell_type": "markdown",
   "id": "49edf229-53e3-41ed-a8de-de6b099c092d",
   "metadata": {},
   "source": [
    "# Задания"
   ]
  },
  {
   "cell_type": "code",
   "execution_count": 1,
   "id": "bbfc8b0d-ec51-4bb1-a5b1-41729b542822",
   "metadata": {},
   "outputs": [
    {
     "data": {
      "text/html": [
       "<div>\n",
       "<style scoped>\n",
       "    .dataframe tbody tr th:only-of-type {\n",
       "        vertical-align: middle;\n",
       "    }\n",
       "\n",
       "    .dataframe tbody tr th {\n",
       "        vertical-align: top;\n",
       "    }\n",
       "\n",
       "    .dataframe thead th {\n",
       "        text-align: right;\n",
       "    }\n",
       "</style>\n",
       "<table border=\"1\" class=\"dataframe\">\n",
       "  <thead>\n",
       "    <tr style=\"text-align: right;\">\n",
       "      <th></th>\n",
       "      <th>id</th>\n",
       "      <th>address</th>\n",
       "      <th>categories</th>\n",
       "      <th>city</th>\n",
       "      <th>cuisines</th>\n",
       "      <th>dateAdded</th>\n",
       "      <th>dateUpdated</th>\n",
       "      <th>latitude</th>\n",
       "      <th>longitude</th>\n",
       "      <th>menus.category</th>\n",
       "      <th>menus.currency</th>\n",
       "      <th>menus.dateSeen</th>\n",
       "      <th>menus.description</th>\n",
       "      <th>menus.name</th>\n",
       "      <th>name</th>\n",
       "      <th>province</th>\n",
       "    </tr>\n",
       "  </thead>\n",
       "  <tbody>\n",
       "    <tr>\n",
       "      <th>0</th>\n",
       "      <td>AVwc__cikufWRAb51QjV</td>\n",
       "      <td>610 Commercial St</td>\n",
       "      <td>Restaurant Delivery Service,Restaurants,Pizza,...</td>\n",
       "      <td>Atchison</td>\n",
       "      <td>Restaurant Delivery Service</td>\n",
       "      <td>2016-03-02T11:49:34Z</td>\n",
       "      <td>2017-02-01T18:04:44Z</td>\n",
       "      <td>39.561570</td>\n",
       "      <td>-95.121020</td>\n",
       "      <td>NaN</td>\n",
       "      <td>NaN</td>\n",
       "      <td>2017-02-01T18:04:44Z</td>\n",
       "      <td>NaN</td>\n",
       "      <td>Taco</td>\n",
       "      <td>Gambino's Pizza</td>\n",
       "      <td>KS</td>\n",
       "    </tr>\n",
       "    <tr>\n",
       "      <th>1</th>\n",
       "      <td>AVwc__cikufWRAb51QjV</td>\n",
       "      <td>610 Commercial St</td>\n",
       "      <td>Restaurant Delivery Service,Restaurants,Pizza,...</td>\n",
       "      <td>Atchison</td>\n",
       "      <td>Restaurant Delivery Service</td>\n",
       "      <td>2016-03-02T11:49:34Z</td>\n",
       "      <td>2017-02-01T18:04:44Z</td>\n",
       "      <td>39.561570</td>\n",
       "      <td>-95.121020</td>\n",
       "      <td>NaN</td>\n",
       "      <td>NaN</td>\n",
       "      <td>2016-03-02T11:49:34Z</td>\n",
       "      <td>Beef, onion, cheddar cheese, lettuce,  refried...</td>\n",
       "      <td>Taco</td>\n",
       "      <td>Gambino's Pizza</td>\n",
       "      <td>KS</td>\n",
       "    </tr>\n",
       "    <tr>\n",
       "      <th>2</th>\n",
       "      <td>AVwc__dF_7pvs4fz1Ncy</td>\n",
       "      <td>9521 Morton Davis Dr</td>\n",
       "      <td>Golf Course, American Restaurant, and Resort</td>\n",
       "      <td>Patterson</td>\n",
       "      <td>NaN</td>\n",
       "      <td>2016-10-14T01:58:25Z</td>\n",
       "      <td>2016-10-14T01:58:25Z</td>\n",
       "      <td>37.401855</td>\n",
       "      <td>-121.266703</td>\n",
       "      <td>NaN</td>\n",
       "      <td>NaN</td>\n",
       "      <td>2016-10-14T01:58:25Z</td>\n",
       "      <td>Beef barbacoa or chicken, spanish rice, pico d...</td>\n",
       "      <td>Smotherd Burrito</td>\n",
       "      <td>Diablo Grande Golf &amp; Country Club</td>\n",
       "      <td>Grayson</td>\n",
       "    </tr>\n",
       "    <tr>\n",
       "      <th>3</th>\n",
       "      <td>AVwc__kCByjofQCxkdm-</td>\n",
       "      <td>10550 W I 25 Frontage Rd</td>\n",
       "      <td>Fast Food Restaurant</td>\n",
       "      <td>Longmont</td>\n",
       "      <td>NaN</td>\n",
       "      <td>2016-09-09T17:30:34Z</td>\n",
       "      <td>2016-10-04T05:15:17Z</td>\n",
       "      <td>NaN</td>\n",
       "      <td>NaN</td>\n",
       "      <td>NaN</td>\n",
       "      <td>NaN</td>\n",
       "      <td>2016-09-09T17:30:34Z</td>\n",
       "      <td>NaN</td>\n",
       "      <td>Sausage Burrito</td>\n",
       "      <td>Mcdonald's</td>\n",
       "      <td>Niwot</td>\n",
       "    </tr>\n",
       "    <tr>\n",
       "      <th>4</th>\n",
       "      <td>AVwc__WtByjofQCxkdkR</td>\n",
       "      <td>8495 W 3rd St</td>\n",
       "      <td>Mexican Restaurant Mid-City West,Mexican Resta...</td>\n",
       "      <td>Los Angeles</td>\n",
       "      <td>Mexican</td>\n",
       "      <td>2016-05-19T11:50:25Z</td>\n",
       "      <td>2016-09-11T00:06:37Z</td>\n",
       "      <td>34.080724</td>\n",
       "      <td>-118.389578</td>\n",
       "      <td>NaN</td>\n",
       "      <td>NaN</td>\n",
       "      <td>2016-05-19T11:50:25Z</td>\n",
       "      <td>Wahoo, avocado, cabbage, pico de gallo  and av...</td>\n",
       "      <td>Wahoo Tacogrilled</td>\n",
       "      <td>Baja Fresh Mexican Grill</td>\n",
       "      <td>Bicentennial</td>\n",
       "    </tr>\n",
       "  </tbody>\n",
       "</table>\n",
       "</div>"
      ],
      "text/plain": [
       "                     id                   address  \\\n",
       "0  AVwc__cikufWRAb51QjV         610 Commercial St   \n",
       "1  AVwc__cikufWRAb51QjV         610 Commercial St   \n",
       "2  AVwc__dF_7pvs4fz1Ncy      9521 Morton Davis Dr   \n",
       "3  AVwc__kCByjofQCxkdm-  10550 W I 25 Frontage Rd   \n",
       "4  AVwc__WtByjofQCxkdkR             8495 W 3rd St   \n",
       "\n",
       "                                          categories         city  \\\n",
       "0  Restaurant Delivery Service,Restaurants,Pizza,...     Atchison   \n",
       "1  Restaurant Delivery Service,Restaurants,Pizza,...     Atchison   \n",
       "2       Golf Course, American Restaurant, and Resort    Patterson   \n",
       "3                               Fast Food Restaurant     Longmont   \n",
       "4  Mexican Restaurant Mid-City West,Mexican Resta...  Los Angeles   \n",
       "\n",
       "                      cuisines             dateAdded           dateUpdated  \\\n",
       "0  Restaurant Delivery Service  2016-03-02T11:49:34Z  2017-02-01T18:04:44Z   \n",
       "1  Restaurant Delivery Service  2016-03-02T11:49:34Z  2017-02-01T18:04:44Z   \n",
       "2                          NaN  2016-10-14T01:58:25Z  2016-10-14T01:58:25Z   \n",
       "3                          NaN  2016-09-09T17:30:34Z  2016-10-04T05:15:17Z   \n",
       "4                      Mexican  2016-05-19T11:50:25Z  2016-09-11T00:06:37Z   \n",
       "\n",
       "    latitude   longitude menus.category menus.currency        menus.dateSeen  \\\n",
       "0  39.561570  -95.121020            NaN            NaN  2017-02-01T18:04:44Z   \n",
       "1  39.561570  -95.121020            NaN            NaN  2016-03-02T11:49:34Z   \n",
       "2  37.401855 -121.266703            NaN            NaN  2016-10-14T01:58:25Z   \n",
       "3        NaN         NaN            NaN            NaN  2016-09-09T17:30:34Z   \n",
       "4  34.080724 -118.389578            NaN            NaN  2016-05-19T11:50:25Z   \n",
       "\n",
       "                                   menus.description         menus.name  \\\n",
       "0                                                NaN               Taco   \n",
       "1  Beef, onion, cheddar cheese, lettuce,  refried...               Taco   \n",
       "2  Beef barbacoa or chicken, spanish rice, pico d...   Smotherd Burrito   \n",
       "3                                                NaN    Sausage Burrito   \n",
       "4  Wahoo, avocado, cabbage, pico de gallo  and av...  Wahoo Tacogrilled   \n",
       "\n",
       "                                name      province  \n",
       "0                    Gambino's Pizza            KS  \n",
       "1                    Gambino's Pizza            KS  \n",
       "2  Diablo Grande Golf & Country Club       Grayson  \n",
       "3                         Mcdonald's         Niwot  \n",
       "4           Baja Fresh Mexican Grill  Bicentennial  "
      ]
     },
     "execution_count": 1,
     "metadata": {},
     "output_type": "execute_result"
    }
   ],
   "source": [
    "# Импорт библиотеки pandas для работы с данными\n",
    "import pandas as pd\n",
    "\n",
    "# Загрузка данных из CSV-файла в DataFrame\n",
    "data = pd.read_csv('data/data.csv')\n",
    "\n",
    "# Вывод первых 5 строк DataFrame для первоначального ознакомления с данными\n",
    "data.head()"
   ]
  },
  {
   "cell_type": "code",
   "execution_count": 2,
   "id": "05f84e17-0943-4744-a5db-ed50746a48b6",
   "metadata": {},
   "outputs": [
    {
     "data": {
      "text/plain": [
       "city         object\n",
       "latitude    float64\n",
       "dtype: object"
      ]
     },
     "execution_count": 2,
     "metadata": {},
     "output_type": "execute_result"
    }
   ],
   "source": [
    "# Получаем информацию о типах данных для колонок city и latitude\n",
    "data[['city', 'latitude']].dtypes"
   ]
  },
  {
   "cell_type": "code",
   "execution_count": 3,
   "id": "deda69b2-cd46-44dd-8a63-315e4296f730",
   "metadata": {},
   "outputs": [
    {
     "data": {
      "text/html": [
       "<div>\n",
       "<style scoped>\n",
       "    .dataframe tbody tr th:only-of-type {\n",
       "        vertical-align: middle;\n",
       "    }\n",
       "\n",
       "    .dataframe tbody tr th {\n",
       "        vertical-align: top;\n",
       "    }\n",
       "\n",
       "    .dataframe thead th {\n",
       "        text-align: right;\n",
       "    }\n",
       "</style>\n",
       "<table border=\"1\" class=\"dataframe\">\n",
       "  <thead>\n",
       "    <tr style=\"text-align: right;\">\n",
       "      <th></th>\n",
       "      <th>latitude</th>\n",
       "      <th>longitude</th>\n",
       "    </tr>\n",
       "  </thead>\n",
       "  <tbody>\n",
       "    <tr>\n",
       "      <th>count</th>\n",
       "      <td>55636.000000</td>\n",
       "      <td>55636.000000</td>\n",
       "    </tr>\n",
       "    <tr>\n",
       "      <th>mean</th>\n",
       "      <td>36.694846</td>\n",
       "      <td>-98.713309</td>\n",
       "    </tr>\n",
       "    <tr>\n",
       "      <th>std</th>\n",
       "      <td>4.835124</td>\n",
       "      <td>18.245857</td>\n",
       "    </tr>\n",
       "    <tr>\n",
       "      <th>min</th>\n",
       "      <td>-31.986438</td>\n",
       "      <td>-159.492690</td>\n",
       "    </tr>\n",
       "    <tr>\n",
       "      <th>25%</th>\n",
       "      <td>33.668355</td>\n",
       "      <td>-117.647150</td>\n",
       "    </tr>\n",
       "    <tr>\n",
       "      <th>50%</th>\n",
       "      <td>36.047195</td>\n",
       "      <td>-96.682320</td>\n",
       "    </tr>\n",
       "    <tr>\n",
       "      <th>75%</th>\n",
       "      <td>40.588380</td>\n",
       "      <td>-82.679930</td>\n",
       "    </tr>\n",
       "    <tr>\n",
       "      <th>max</th>\n",
       "      <td>61.219460</td>\n",
       "      <td>115.903696</td>\n",
       "    </tr>\n",
       "  </tbody>\n",
       "</table>\n",
       "</div>"
      ],
      "text/plain": [
       "           latitude     longitude\n",
       "count  55636.000000  55636.000000\n",
       "mean      36.694846    -98.713309\n",
       "std        4.835124     18.245857\n",
       "min      -31.986438   -159.492690\n",
       "25%       33.668355   -117.647150\n",
       "50%       36.047195    -96.682320\n",
       "75%       40.588380    -82.679930\n",
       "max       61.219460    115.903696"
      ]
     },
     "execution_count": 3,
     "metadata": {},
     "output_type": "execute_result"
    }
   ],
   "source": [
    "# Получение описательной статистики для числовых колонок DataFrame\n",
    "data.describe()"
   ]
  },
  {
   "cell_type": "code",
   "execution_count": 4,
   "id": "ae17aa21-7d33-478f-ae1b-154172920261",
   "metadata": {},
   "outputs": [
    {
     "data": {
      "text/plain": [
       "(1925, 16)"
      ]
     },
     "execution_count": 4,
     "metadata": {},
     "output_type": "execute_result"
    }
   ],
   "source": [
    "# Удаление всех строк, содержащих хотя бы одно пропущенное значение (NaN)\n",
    "# и получение размерности полученного DataFrame\n",
    "data.dropna().shape"
   ]
  },
  {
   "cell_type": "code",
   "execution_count": 5,
   "id": "f112708b-ef5b-422f-82ba-e6ed58dd7de0",
   "metadata": {},
   "outputs": [
    {
     "name": "stdout",
     "output_type": "stream",
     "text": [
      "[40483, 52930, 52931, 52932, 52933, 52934, 52935, 52936, 52937, 52938, 52939, 65070]\n"
     ]
    }
   ],
   "source": [
    "# Фильтруем данные по условиям: город California\n",
    "filtered_data = data[data['city'] == 'California']\n",
    "\n",
    "# Получаем индексы отфильтрованных строк\n",
    "print(filtered_data.index.sort_values().tolist())"
   ]
  },
  {
   "cell_type": "code",
   "execution_count": 6,
   "id": "0793995a-caa9-411f-b22f-7e08c9211349",
   "metadata": {},
   "outputs": [
    {
     "name": "stdout",
     "output_type": "stream",
     "text": [
      "[52930, 52931, 52932, 52933, 52934, 52935, 52936, 52937, 52938, 52939]\n"
     ]
    }
   ],
   "source": [
    "# Фильтруем данные по условиям: город California и заведение Taco Bell\n",
    "filtered_data = data[(data['city'] == 'California') & (data['name'] == 'Taco Bell')]\n",
    "\n",
    "# Получаем индексы отфильтрованных строк\n",
    "print(filtered_data.index.sort_values().tolist())"
   ]
  },
  {
   "cell_type": "code",
   "execution_count": 7,
   "id": "dfb539e6-e194-40ef-97b9-73c99c36f534",
   "metadata": {},
   "outputs": [],
   "source": [
    "# Условия фильтрации - DataFrame с заведениями, которые:\n",
    "# Находятся в Нью-Йорке ИЛИ называются Taco Bell\n",
    "# И не содержат в меню позиций \"Volcano Taco\" или \"Fresco Soft Taco\"\n",
    "\n",
    "# Создание фильтрованного DataFrame по сложному условию\n",
    "result = data[\n",
    "    (((data['city'] == 'New York') | (data['name'] == 'Taco Bell')) & (~data['menus.name'].isin(['Volcano Taco', 'Fresco Soft Taco'])))\n",
    "]"
   ]
  },
  {
   "cell_type": "code",
   "execution_count": 8,
   "id": "2da5eca2-67bc-44be-a262-d901c2e63457",
   "metadata": {},
   "outputs": [],
   "source": [
    "# Фильтрация данных: оставляем только заведения с указанной валютой оплаты\n",
    "result = data[~data['menus.currency'].isna()]"
   ]
  },
  {
   "cell_type": "code",
   "execution_count": 9,
   "id": "b37c5d85-c022-4de6-b83a-3a6df82e44f9",
   "metadata": {},
   "outputs": [
    {
     "name": "stdout",
     "output_type": "stream",
     "text": [
      "<class 'pandas.core.series.Series'>\n",
      "object \n",
      "\n",
      "<class 'pandas.core.frame.DataFrame'>\n",
      "categories    object\n",
      "dtype: object\n"
     ]
    }
   ],
   "source": [
    "# Анализ типа и структуры данных для колонки 'categories'\n",
    "\n",
    "# Вариант 1: обращение как к Series\n",
    "print(type(data['categories']))\n",
    "print(data['categories'].dtypes, '\\n')\n",
    "\n",
    "# Вариант 2: обращение как к DataFrame с одной колонкой\n",
    "print(type(data[['categories']]))\n",
    "print(data[['categories']].dtypes)"
   ]
  },
  {
   "cell_type": "code",
   "execution_count": 10,
   "id": "934e5d27-b2a4-44b7-95a8-57ef2f7779f3",
   "metadata": {},
   "outputs": [
    {
     "data": {
      "text/plain": [
       "city\n",
       "San Diego        1924\n",
       "Los Angeles      1603\n",
       "Chicago          1186\n",
       "San Francisco    1120\n",
       "New York         1085\n",
       "Name: count, dtype: int64"
      ]
     },
     "execution_count": 10,
     "metadata": {},
     "output_type": "execute_result"
    }
   ],
   "source": [
    "# Получаем 5 городов с наибольшим количеством записей\n",
    "data['city'].value_counts().nlargest(5)"
   ]
  },
  {
   "cell_type": "code",
   "execution_count": 11,
   "id": "52f81112-8c56-4f02-ab3f-718641e71947",
   "metadata": {},
   "outputs": [
    {
     "data": {
      "text/plain": [
       "city\n",
       "Indianapolis    84\n",
       "Columbus        63\n",
       "Charleston      63\n",
       "Tampa           62\n",
       "Albuquerque     42\n",
       "Name: count, dtype: int64"
      ]
     },
     "execution_count": 11,
     "metadata": {},
     "output_type": "execute_result"
    }
   ],
   "source": [
    "# Подсчет количества ресторанов Taco Bell в каждом городе и выбор топ-5 городов\n",
    "result = data[data['name']=='Taco Bell']['city'].value_counts().iloc[0:5]\n",
    "result"
   ]
  },
  {
   "cell_type": "code",
   "execution_count": 12,
   "id": "a11cc822-bac8-474f-843d-08114e58b0cb",
   "metadata": {},
   "outputs": [
    {
     "data": {
      "text/plain": [
       "[2, 21, 22, 23, 24]"
      ]
     },
     "execution_count": 12,
     "metadata": {},
     "output_type": "execute_result"
    }
   ],
   "source": [
    "# Преобразуем столбец dateAdded в datetime формат\n",
    "data['dateAdded'] = pd.to_datetime(data['dateAdded'], errors='coerce')\n",
    "\n",
    "# Фильтруем записи, где месяц открытия - октябрь (10)\n",
    "october_openings = data[data['dateAdded'].dt.month == 10]\n",
    "\n",
    "# Получаем индексы первых пяти записей в порядке возрастания\n",
    "first_five_indices = october_openings.index[:5].sort_values().tolist()\n",
    "\n",
    "# Выводим результат\n",
    "first_five_indices"
   ]
  },
  {
   "cell_type": "code",
   "execution_count": 13,
   "id": "20008b87-39bf-493e-8244-3d4606292e86",
   "metadata": {},
   "outputs": [
    {
     "data": {
      "text/html": [
       "<div>\n",
       "<style scoped>\n",
       "    .dataframe tbody tr th:only-of-type {\n",
       "        vertical-align: middle;\n",
       "    }\n",
       "\n",
       "    .dataframe tbody tr th {\n",
       "        vertical-align: top;\n",
       "    }\n",
       "\n",
       "    .dataframe thead th {\n",
       "        text-align: right;\n",
       "    }\n",
       "</style>\n",
       "<table border=\"1\" class=\"dataframe\">\n",
       "  <thead>\n",
       "    <tr style=\"text-align: right;\">\n",
       "      <th></th>\n",
       "      <th>id</th>\n",
       "    </tr>\n",
       "    <tr>\n",
       "      <th>dateAdded</th>\n",
       "      <th></th>\n",
       "    </tr>\n",
       "  </thead>\n",
       "  <tbody>\n",
       "    <tr>\n",
       "      <th>1</th>\n",
       "      <td>308</td>\n",
       "    </tr>\n",
       "    <tr>\n",
       "      <th>2</th>\n",
       "      <td>257</td>\n",
       "    </tr>\n",
       "    <tr>\n",
       "      <th>3</th>\n",
       "      <td>4970</td>\n",
       "    </tr>\n",
       "    <tr>\n",
       "      <th>4</th>\n",
       "      <td>3224</td>\n",
       "    </tr>\n",
       "    <tr>\n",
       "      <th>5</th>\n",
       "      <td>1141</td>\n",
       "    </tr>\n",
       "    <tr>\n",
       "      <th>6</th>\n",
       "      <td>1356</td>\n",
       "    </tr>\n",
       "    <tr>\n",
       "      <th>7</th>\n",
       "      <td>645</td>\n",
       "    </tr>\n",
       "    <tr>\n",
       "      <th>8</th>\n",
       "      <td>479</td>\n",
       "    </tr>\n",
       "    <tr>\n",
       "      <th>9</th>\n",
       "      <td>554</td>\n",
       "    </tr>\n",
       "    <tr>\n",
       "      <th>10</th>\n",
       "      <td>4716</td>\n",
       "    </tr>\n",
       "    <tr>\n",
       "      <th>11</th>\n",
       "      <td>1550</td>\n",
       "    </tr>\n",
       "    <tr>\n",
       "      <th>12</th>\n",
       "      <td>239</td>\n",
       "    </tr>\n",
       "  </tbody>\n",
       "</table>\n",
       "</div>"
      ],
      "text/plain": [
       "             id\n",
       "dateAdded      \n",
       "1           308\n",
       "2           257\n",
       "3          4970\n",
       "4          3224\n",
       "5          1141\n",
       "6          1356\n",
       "7           645\n",
       "8           479\n",
       "9           554\n",
       "10         4716\n",
       "11         1550\n",
       "12          239"
      ]
     },
     "execution_count": 13,
     "metadata": {},
     "output_type": "execute_result"
    }
   ],
   "source": [
    "# Группировка по месяцу открытия ресторана и подсчет уникальных id\n",
    "result = data.groupby(data['dateAdded'].dt.month)['id'].nunique()\n",
    "\n",
    "# Преобразование результата в DataFrame и сброс индекса, установка dateAdded в качестве индекса\n",
    "result = result.reset_index()\n",
    "result.set_index('dateAdded', inplace=True)\n",
    "\n",
    "# Выводим результат\n",
    "result"
   ]
  },
  {
   "cell_type": "code",
   "execution_count": 14,
   "id": "24975ebd-de3b-4e84-9688-843c7e831cc4",
   "metadata": {},
   "outputs": [
    {
     "name": "stdout",
     "output_type": "stream",
     "text": [
      "        city  update_delta   latitude\n",
      "0  Abbeville    114.857143  29.982108\n",
      "1   Aberdeen     81.625000  46.975110\n",
      "2    Abilene    206.454545  32.453090\n",
      "3   Abingdon    303.500000  36.712800\n",
      "4   Abington    393.000000  40.124851\n",
      "Среднее значение update_delta для Zephyrhills: 329.69565217391306\n"
     ]
    }
   ],
   "source": [
    "# Преобразуем колонки с датами в правильный формат datetime\n",
    "data['dateAdded'] = pd.to_datetime(data['dateAdded'])\n",
    "data['dateUpdated'] = pd.to_datetime(data['dateUpdated'])\n",
    "\n",
    "# Вычисление разницы в днях между dateUpdated и dateAdded\n",
    "data['update_delta'] = (data['dateUpdated'] - data['dateAdded']).dt.days\n",
    "\n",
    "# Группировка по городу и вычисление среднего update_delta и максимальной широты\n",
    "result = data.groupby('city', as_index=False).agg({\n",
    "    'update_delta': 'mean', \n",
    "    'latitude': 'max'\n",
    "})\n",
    "\n",
    "# Сохранение среднего значения update_delta для города Zephyrhills\n",
    "zep_mean = result[result['city'] == 'Zephyrhills']['update_delta'].values[0]\n",
    "\n",
    "# Проверка результатов\n",
    "print(result.head())\n",
    "print(f\"Среднее значение update_delta для Zephyrhills: {zep_mean}\")"
   ]
  },
  {
   "cell_type": "code",
   "execution_count": 15,
   "id": "80c4e749-1a10-4dbd-a871-c08f58656429",
   "metadata": {},
   "outputs": [
    {
     "data": {
      "text/plain": [
       "np.int64(66)"
      ]
     },
     "execution_count": 15,
     "metadata": {},
     "output_type": "execute_result"
    }
   ],
   "source": [
    "# Фильтрация ресторанов, у которых в колонке categories упоминается Pizza\n",
    "pizza_restaurants = data[data['categories'].str.contains('Pizza', na=False)]\n",
    "\n",
    "# Получение индекса 3-го элемента после фильтрации\n",
    "third_index = pizza_restaurants.index[2]\n",
    "\n",
    "third_index"
   ]
  },
  {
   "cell_type": "code",
   "execution_count": 16,
   "id": "63910b14-ba8b-4d0e-ad4c-20b711edcf2c",
   "metadata": {},
   "outputs": [],
   "source": [
    "# Отбираем записи с более чем 20 категориями\n",
    "# Предполагаем, что категории разделены каким-то разделителем (например, запятой)\n",
    "filtered_data = data[data['categories'].str.split(',').str.len() > 20]\n",
    "\n",
    "# Группируем по провинциям и находим минимальную долготу в каждой\n",
    "result = filtered_data.groupby('province')['longitude'].min().reset_index()\n",
    "\n",
    "# Округляем значения долготы до 3-х знаков после запятой\n",
    "result['longitude'] = result['longitude'].round(3)\n",
    "\n",
    "# Переименовываем колонки согласно требованиям\n",
    "result.columns = ['province', 'longitude']\n",
    "\n",
    "# Сохраняем в CSV файл с сепаратором ;\n",
    "# result.to_csv('result.csv', sep=';', index=False)"
   ]
  },
  {
   "cell_type": "markdown",
   "id": "ebdffa33-195e-4c23-9ed7-33db70a52162",
   "metadata": {},
   "source": [
    "# Мини-проект"
   ]
  },
  {
   "cell_type": "code",
   "execution_count": 17,
   "id": "03a949ef-217b-4c1f-a401-6df0a9c5ad04",
   "metadata": {},
   "outputs": [
    {
     "data": {
      "text/html": [
       "<div>\n",
       "<style scoped>\n",
       "    .dataframe tbody tr th:only-of-type {\n",
       "        vertical-align: middle;\n",
       "    }\n",
       "\n",
       "    .dataframe tbody tr th {\n",
       "        vertical-align: top;\n",
       "    }\n",
       "\n",
       "    .dataframe thead th {\n",
       "        text-align: right;\n",
       "    }\n",
       "</style>\n",
       "<table border=\"1\" class=\"dataframe\">\n",
       "  <thead>\n",
       "    <tr style=\"text-align: right;\">\n",
       "      <th></th>\n",
       "      <th>Unnamed: 0</th>\n",
       "      <th>App</th>\n",
       "      <th>Category</th>\n",
       "      <th>Rating</th>\n",
       "      <th>Reviews</th>\n",
       "      <th>Size</th>\n",
       "      <th>Installs</th>\n",
       "      <th>Type</th>\n",
       "      <th>Price</th>\n",
       "      <th>Content Rating</th>\n",
       "      <th>Genres</th>\n",
       "      <th>Last Updated</th>\n",
       "      <th>Current Ver</th>\n",
       "      <th>Android Ver</th>\n",
       "    </tr>\n",
       "  </thead>\n",
       "  <tbody>\n",
       "    <tr>\n",
       "      <th>0</th>\n",
       "      <td>0</td>\n",
       "      <td>Photo Editor &amp; Candy Camera &amp; Grid &amp; ScrapBook</td>\n",
       "      <td>ART_AND_DESIGN</td>\n",
       "      <td>4.1</td>\n",
       "      <td>159</td>\n",
       "      <td>19M</td>\n",
       "      <td>10,000+</td>\n",
       "      <td>Free</td>\n",
       "      <td>0</td>\n",
       "      <td>Everyone</td>\n",
       "      <td>Art &amp; Design</td>\n",
       "      <td>January 7, 2018</td>\n",
       "      <td>1.0.0</td>\n",
       "      <td>4.0.3 and up</td>\n",
       "    </tr>\n",
       "    <tr>\n",
       "      <th>1</th>\n",
       "      <td>1</td>\n",
       "      <td>Coloring book moana</td>\n",
       "      <td>ART_AND_DESIGN</td>\n",
       "      <td>3.9</td>\n",
       "      <td>967</td>\n",
       "      <td>14M</td>\n",
       "      <td>500,000+</td>\n",
       "      <td>Free</td>\n",
       "      <td>0</td>\n",
       "      <td>Everyone</td>\n",
       "      <td>Art &amp; Design;Pretend Play</td>\n",
       "      <td>January 15, 2018</td>\n",
       "      <td>2.0.0</td>\n",
       "      <td>4.0.3 and up</td>\n",
       "    </tr>\n",
       "    <tr>\n",
       "      <th>2</th>\n",
       "      <td>2</td>\n",
       "      <td>U Launcher Lite – FREE Live Cool Themes, Hide ...</td>\n",
       "      <td>ART_AND_DESIGN</td>\n",
       "      <td>4.7</td>\n",
       "      <td>87510</td>\n",
       "      <td>8.7M</td>\n",
       "      <td>5,000,000+</td>\n",
       "      <td>Free</td>\n",
       "      <td>0</td>\n",
       "      <td>Everyone</td>\n",
       "      <td>Art &amp; Design</td>\n",
       "      <td>August 1, 2018</td>\n",
       "      <td>1.2.4</td>\n",
       "      <td>4.0.3 and up</td>\n",
       "    </tr>\n",
       "    <tr>\n",
       "      <th>3</th>\n",
       "      <td>3</td>\n",
       "      <td>Sketch - Draw &amp; Paint</td>\n",
       "      <td>ART_AND_DESIGN</td>\n",
       "      <td>4.5</td>\n",
       "      <td>215644</td>\n",
       "      <td>25M</td>\n",
       "      <td>50,000,000+</td>\n",
       "      <td>Free</td>\n",
       "      <td>0</td>\n",
       "      <td>Teen</td>\n",
       "      <td>Art &amp; Design</td>\n",
       "      <td>June 8, 2018</td>\n",
       "      <td>Varies with device</td>\n",
       "      <td>4.2 and up</td>\n",
       "    </tr>\n",
       "    <tr>\n",
       "      <th>4</th>\n",
       "      <td>4</td>\n",
       "      <td>Pixel Draw - Number Art Coloring Book</td>\n",
       "      <td>ART_AND_DESIGN</td>\n",
       "      <td>4.3</td>\n",
       "      <td>967</td>\n",
       "      <td>2.8M</td>\n",
       "      <td>100,000+</td>\n",
       "      <td>Free</td>\n",
       "      <td>0</td>\n",
       "      <td>Everyone</td>\n",
       "      <td>Art &amp; Design;Creativity</td>\n",
       "      <td>June 20, 2018</td>\n",
       "      <td>1.1</td>\n",
       "      <td>4.4 and up</td>\n",
       "    </tr>\n",
       "    <tr>\n",
       "      <th>...</th>\n",
       "      <td>...</td>\n",
       "      <td>...</td>\n",
       "      <td>...</td>\n",
       "      <td>...</td>\n",
       "      <td>...</td>\n",
       "      <td>...</td>\n",
       "      <td>...</td>\n",
       "      <td>...</td>\n",
       "      <td>...</td>\n",
       "      <td>...</td>\n",
       "      <td>...</td>\n",
       "      <td>...</td>\n",
       "      <td>...</td>\n",
       "      <td>...</td>\n",
       "    </tr>\n",
       "    <tr>\n",
       "      <th>10835</th>\n",
       "      <td>10835</td>\n",
       "      <td>Sya9a Maroc - FR</td>\n",
       "      <td>FAMILY</td>\n",
       "      <td>4.5</td>\n",
       "      <td>38</td>\n",
       "      <td>53M</td>\n",
       "      <td>5,000+</td>\n",
       "      <td>Free</td>\n",
       "      <td>0</td>\n",
       "      <td>Everyone</td>\n",
       "      <td>Education</td>\n",
       "      <td>July 25, 2017</td>\n",
       "      <td>1.48</td>\n",
       "      <td>4.1 and up</td>\n",
       "    </tr>\n",
       "    <tr>\n",
       "      <th>10836</th>\n",
       "      <td>10836</td>\n",
       "      <td>Fr. Mike Schmitz Audio Teachings</td>\n",
       "      <td>FAMILY</td>\n",
       "      <td>5.0</td>\n",
       "      <td>4</td>\n",
       "      <td>3.6M</td>\n",
       "      <td>100+</td>\n",
       "      <td>Free</td>\n",
       "      <td>0</td>\n",
       "      <td>Everyone</td>\n",
       "      <td>Education</td>\n",
       "      <td>July 6, 2018</td>\n",
       "      <td>1.0</td>\n",
       "      <td>4.1 and up</td>\n",
       "    </tr>\n",
       "    <tr>\n",
       "      <th>10837</th>\n",
       "      <td>10837</td>\n",
       "      <td>Parkinson Exercices FR</td>\n",
       "      <td>MEDICAL</td>\n",
       "      <td>NaN</td>\n",
       "      <td>3</td>\n",
       "      <td>9.5M</td>\n",
       "      <td>1,000+</td>\n",
       "      <td>Free</td>\n",
       "      <td>0</td>\n",
       "      <td>Everyone</td>\n",
       "      <td>Medical</td>\n",
       "      <td>January 20, 2017</td>\n",
       "      <td>1.0</td>\n",
       "      <td>2.2 and up</td>\n",
       "    </tr>\n",
       "    <tr>\n",
       "      <th>10838</th>\n",
       "      <td>10838</td>\n",
       "      <td>The SCP Foundation DB fr nn5n</td>\n",
       "      <td>BOOKS_AND_REFERENCE</td>\n",
       "      <td>4.5</td>\n",
       "      <td>114</td>\n",
       "      <td>Varies with device</td>\n",
       "      <td>1,000+</td>\n",
       "      <td>Free</td>\n",
       "      <td>0</td>\n",
       "      <td>Mature 17+</td>\n",
       "      <td>Books &amp; Reference</td>\n",
       "      <td>January 19, 2015</td>\n",
       "      <td>Varies with device</td>\n",
       "      <td>Varies with device</td>\n",
       "    </tr>\n",
       "    <tr>\n",
       "      <th>10839</th>\n",
       "      <td>10839</td>\n",
       "      <td>iHoroscope - 2018 Daily Horoscope &amp; Astrology</td>\n",
       "      <td>LIFESTYLE</td>\n",
       "      <td>4.5</td>\n",
       "      <td>398307</td>\n",
       "      <td>19M</td>\n",
       "      <td>10,000,000+</td>\n",
       "      <td>Free</td>\n",
       "      <td>0</td>\n",
       "      <td>Everyone</td>\n",
       "      <td>Lifestyle</td>\n",
       "      <td>July 25, 2018</td>\n",
       "      <td>Varies with device</td>\n",
       "      <td>Varies with device</td>\n",
       "    </tr>\n",
       "  </tbody>\n",
       "</table>\n",
       "<p>10840 rows × 14 columns</p>\n",
       "</div>"
      ],
      "text/plain": [
       "       Unnamed: 0                                                App  \\\n",
       "0               0     Photo Editor & Candy Camera & Grid & ScrapBook   \n",
       "1               1                                Coloring book moana   \n",
       "2               2  U Launcher Lite – FREE Live Cool Themes, Hide ...   \n",
       "3               3                              Sketch - Draw & Paint   \n",
       "4               4              Pixel Draw - Number Art Coloring Book   \n",
       "...           ...                                                ...   \n",
       "10835       10835                                   Sya9a Maroc - FR   \n",
       "10836       10836                   Fr. Mike Schmitz Audio Teachings   \n",
       "10837       10837                             Parkinson Exercices FR   \n",
       "10838       10838                      The SCP Foundation DB fr nn5n   \n",
       "10839       10839      iHoroscope - 2018 Daily Horoscope & Astrology   \n",
       "\n",
       "                  Category  Rating  Reviews                Size     Installs  \\\n",
       "0           ART_AND_DESIGN     4.1      159                 19M      10,000+   \n",
       "1           ART_AND_DESIGN     3.9      967                 14M     500,000+   \n",
       "2           ART_AND_DESIGN     4.7    87510                8.7M   5,000,000+   \n",
       "3           ART_AND_DESIGN     4.5   215644                 25M  50,000,000+   \n",
       "4           ART_AND_DESIGN     4.3      967                2.8M     100,000+   \n",
       "...                    ...     ...      ...                 ...          ...   \n",
       "10835               FAMILY     4.5       38                 53M       5,000+   \n",
       "10836               FAMILY     5.0        4                3.6M         100+   \n",
       "10837              MEDICAL     NaN        3                9.5M       1,000+   \n",
       "10838  BOOKS_AND_REFERENCE     4.5      114  Varies with device       1,000+   \n",
       "10839            LIFESTYLE     4.5   398307                 19M  10,000,000+   \n",
       "\n",
       "       Type Price Content Rating                     Genres      Last Updated  \\\n",
       "0      Free     0       Everyone               Art & Design   January 7, 2018   \n",
       "1      Free     0       Everyone  Art & Design;Pretend Play  January 15, 2018   \n",
       "2      Free     0       Everyone               Art & Design    August 1, 2018   \n",
       "3      Free     0           Teen               Art & Design      June 8, 2018   \n",
       "4      Free     0       Everyone    Art & Design;Creativity     June 20, 2018   \n",
       "...     ...   ...            ...                        ...               ...   \n",
       "10835  Free     0       Everyone                  Education     July 25, 2017   \n",
       "10836  Free     0       Everyone                  Education      July 6, 2018   \n",
       "10837  Free     0       Everyone                    Medical  January 20, 2017   \n",
       "10838  Free     0     Mature 17+          Books & Reference  January 19, 2015   \n",
       "10839  Free     0       Everyone                  Lifestyle     July 25, 2018   \n",
       "\n",
       "              Current Ver         Android Ver  \n",
       "0                   1.0.0        4.0.3 and up  \n",
       "1                   2.0.0        4.0.3 and up  \n",
       "2                   1.2.4        4.0.3 and up  \n",
       "3      Varies with device          4.2 and up  \n",
       "4                     1.1          4.4 and up  \n",
       "...                   ...                 ...  \n",
       "10835                1.48          4.1 and up  \n",
       "10836                 1.0          4.1 and up  \n",
       "10837                 1.0          2.2 and up  \n",
       "10838  Varies with device  Varies with device  \n",
       "10839  Varies with device  Varies with device  \n",
       "\n",
       "[10840 rows x 14 columns]"
      ]
     },
     "execution_count": 17,
     "metadata": {},
     "output_type": "execute_result"
    }
   ],
   "source": [
    "# Загрузка данных из CSV-файла в DataFrame\n",
    "playstore = pd.read_csv('data/playstore.csv')\n",
    "\n",
    "# Вывод первых и последних 5 строк DataFrame для первоначального ознакомления с данными\n",
    "playstore"
   ]
  },
  {
   "cell_type": "code",
   "execution_count": 18,
   "id": "75d284f3-57f6-472e-b486-e7f5c7212a0b",
   "metadata": {},
   "outputs": [],
   "source": [
    "# Сохраняем первые 3 строки датафрейма\n",
    "data_head = playstore.head(3)\n",
    "\n",
    "# Сохраняем последние 3 строки датафрейма  \n",
    "data_tail = playstore.tail(3)"
   ]
  },
  {
   "cell_type": "code",
   "execution_count": 19,
   "id": "af392472-91a5-49cb-8ef5-c5ae3cd5dbfe",
   "metadata": {},
   "outputs": [
    {
     "data": {
      "text/plain": [
       "(10840, 14)"
      ]
     },
     "execution_count": 19,
     "metadata": {},
     "output_type": "execute_result"
    }
   ],
   "source": [
    "# Получаем количество строк и столбцов в датафрейме\n",
    "n_row = playstore.shape[0]  # количество строк\n",
    "n_col = playstore.shape[1]  # количество столбцов\n",
    "\n",
    "n_row, n_col"
   ]
  },
  {
   "cell_type": "code",
   "execution_count": 20,
   "id": "cc5adad9-0b1e-4029-a417-5d396d503082",
   "metadata": {},
   "outputs": [
    {
     "data": {
      "text/plain": [
       "9659"
      ]
     },
     "execution_count": 20,
     "metadata": {},
     "output_type": "execute_result"
    }
   ],
   "source": [
    "# Подсчет количества уникальных приложений в колонке App\n",
    "unique_apps_count = playstore['App'].nunique()\n",
    "\n",
    "unique_apps_count"
   ]
  },
  {
   "cell_type": "code",
   "execution_count": 21,
   "id": "7fa7bf47-ba75-4807-bbc5-6e8bfb43883b",
   "metadata": {},
   "outputs": [
    {
     "name": "stdout",
     "output_type": "stream",
     "text": [
      "1474\n"
     ]
    }
   ],
   "source": [
    "# Подсчет пропущенных значений в колонке Rating\n",
    "rating_missing = playstore['Rating'].isna().sum()\n",
    "print(rating_missing)"
   ]
  },
  {
   "cell_type": "code",
   "execution_count": 22,
   "id": "56292a87-4a5a-44ce-8929-575a8f07e12c",
   "metadata": {},
   "outputs": [],
   "source": [
    "# Создаем три отдельных датафрейма из указанных срезов\n",
    "df1 = playstore.iloc[0:3]    # первые три строки (индексы 0, 1, 2)\n",
    "df2 = playstore.iloc[5:8]    # строки 6-8 (индексы 5, 6, 7) - потому что 5:8 дает индексы 5,6,7\n",
    "df3 = playstore.iloc[15:19]  # строки 16-19 (индексы 15, 16, 17, 18) - потому что 15:19 дает индексы 15,16,17,18\n",
    "\n",
    "# Выбираем только нужные колонки в каждом датафрейме\n",
    "cols = ['App', 'Size', 'Genres', 'Current Ver']\n",
    "df1 = df1[cols]\n",
    "df2 = df2[cols]\n",
    "df3 = df3[cols]\n",
    "\n",
    "# Объединяем датафреймы с помощью concat\n",
    "result_df = pd.concat([df1, df2, df3])\n",
    "\n",
    "# Сохраняем в CSV файл с сохранением индексов\n",
    "# result_df.to_csv('result.csv', index=True)"
   ]
  },
  {
   "cell_type": "code",
   "execution_count": 23,
   "id": "f8115ef5-930d-483c-a58b-93230b00854c",
   "metadata": {},
   "outputs": [],
   "source": [
    "# Удаление дубликатов по колонке 'App' и сброс индекса\n",
    "unique_playstore = playstore.drop_duplicates(subset='App').reset_index(drop=True)"
   ]
  },
  {
   "cell_type": "code",
   "execution_count": 24,
   "id": "34bbb003-c0fc-45c0-8deb-fa2badf9de29",
   "metadata": {},
   "outputs": [
    {
     "name": "stdout",
     "output_type": "stream",
     "text": [
      "Таблица сравнения:\n",
      "До                   | После               \n",
      "----------------------------------------\n",
      "Unnamed: 0           | unnamed:_0          \n",
      "App                  | app                 \n",
      "Category             | category            \n",
      "Rating               | rating              \n",
      "Reviews              | reviews             \n",
      "Size                 | size                \n",
      "Installs             | installs            \n",
      "Type                 | type                \n",
      "Price                | price               \n",
      "Content Rating       | content_rating      \n",
      "Genres               | genres              \n",
      "Last Updated         | last_updated        \n",
      "Current Ver          | current_ver         \n",
      "Android Ver          | android_ver         \n"
     ]
    }
   ],
   "source": [
    "# Вывод оригинальных названий колонок\n",
    "original_columns = playstore.columns.tolist()\n",
    "\n",
    "# Приведение названий колонок к стандартному виду\n",
    "playstore.columns = playstore.columns.str.lower().str.replace(' ', '_')\n",
    "\n",
    "# Вывод преобразованных названий колонок\n",
    "new_columns = playstore.columns.tolist()\n",
    "\n",
    "# Создание красивой таблицы сравнения\n",
    "print(\"Таблица сравнения:\")\n",
    "print(f\"{'До':<20} | {'После':<20}\")\n",
    "print(\"-\" * 40)\n",
    "for orig, new in zip(original_columns, new_columns):\n",
    "    print(f\"{orig:<20} | {new:<20}\")"
   ]
  },
  {
   "cell_type": "code",
   "execution_count": 25,
   "id": "daa96e7f-35cf-4871-a2cb-e220456fa047",
   "metadata": {},
   "outputs": [
    {
     "data": {
      "text/plain": [
       "0.92"
      ]
     },
     "execution_count": 25,
     "metadata": {},
     "output_type": "execute_result"
    }
   ],
   "source": [
    "# Удаляем дубликаты приложений по колонке App\n",
    "unique_apps = playstore.drop_duplicates(subset=['app'])\n",
    "\n",
    "# Подсчитываем количество бесплатных приложений\n",
    "free_count = unique_apps[unique_apps['type'] == 'Free'].shape[0]\n",
    "\n",
    "# Подсчитываем общее количество уникальных приложений\n",
    "total_count = unique_apps.shape[0]\n",
    "\n",
    "# Вычисляем долю бесплатных приложений и округляем до сотых\n",
    "free_ratio = round(free_count / total_count, 2)\n",
    "\n",
    "free_ratio"
   ]
  },
  {
   "cell_type": "code",
   "execution_count": 26,
   "id": "3d194082-1e95-4db6-8dd3-17c72bba78ab",
   "metadata": {},
   "outputs": [],
   "source": [
    "# Фильтрация приложений по категории и количеству отзывов\n",
    "education_playstore = playstore[\n",
    "    (playstore['category'] == 'EDUCATION') & (playstore['reviews'] > 1000)\n",
    "].reset_index(drop=True)"
   ]
  },
  {
   "cell_type": "code",
   "execution_count": 27,
   "id": "93c1ee1f-6e50-4a0f-a619-ba62a680d554",
   "metadata": {},
   "outputs": [],
   "source": [
    "# Удаление знака $ из колонки price\n",
    "playstore['price'] = playstore['price'].astype(str)\n",
    "playstore['price'] = playstore['price'].str.replace('$', '', regex=False)\n",
    "\n",
    "# Преобразование колонки price в тип float\n",
    "playstore['price'] = playstore['price'].astype(float)"
   ]
  },
  {
   "cell_type": "code",
   "execution_count": 28,
   "id": "cb100f76-c604-4afc-bfc3-665a64c10a2d",
   "metadata": {},
   "outputs": [],
   "source": [
    "# Удаляем дубликаты приложений\n",
    "unique_data = playstore.drop_duplicates(subset=['app'])\n",
    "\n",
    "# Создаем сводную таблицу\n",
    "pivot_table = unique_data.pivot_table(\n",
    "    values=['price', 'rating', 'reviews'],\n",
    "    index=['category', 'type'],\n",
    "    aggfunc={\n",
    "        'price': 'mean',\n",
    "        'rating': 'mean', \n",
    "        'reviews': 'mean'\n",
    "    }\n",
    ")\n",
    "\n",
    "# Переименовываем колонки\n",
    "pivot_table.columns = ['mean_price', 'mean_rating', 'mean_reviews']\n",
    "\n",
    "# Округляем значения\n",
    "pivot_table['mean_price'] = pivot_table['mean_price'].round(2)\n",
    "pivot_table['mean_rating'] = pivot_table['mean_rating'].round(1)\n",
    "pivot_table['mean_reviews'] = pivot_table['mean_reviews'].round(2)\n",
    "\n",
    "# Сбрасываем multi-index для сохранения в CSV\n",
    "result = pivot_table.reset_index()\n",
    "\n",
    "# Сохраняем в CSV\n",
    "# result.to_csv('pivot_result.csv', index=False)"
   ]
  },
  {
   "cell_type": "code",
   "execution_count": null,
   "id": "7a8edfbe-e7fe-4634-a513-13af9bb5f54d",
   "metadata": {},
   "outputs": [],
   "source": []
  }
 ],
 "metadata": {
  "kernelspec": {
   "display_name": "Python 3 (ipykernel)",
   "language": "python",
   "name": "python3"
  },
  "language_info": {
   "codemirror_mode": {
    "name": "ipython",
    "version": 3
   },
   "file_extension": ".py",
   "mimetype": "text/x-python",
   "name": "python",
   "nbconvert_exporter": "python",
   "pygments_lexer": "ipython3",
   "version": "3.13.5"
  }
 },
 "nbformat": 4,
 "nbformat_minor": 5
}
